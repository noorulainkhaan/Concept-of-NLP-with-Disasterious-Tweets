{
 "cells": [
  {
   "cell_type": "markdown",
   "metadata": {
    "papermill": {
     "duration": 0.036981,
     "end_time": "2020-12-22T07:34:46.064160",
     "exception": false,
     "start_time": "2020-12-22T07:34:46.027179",
     "status": "completed"
    },
    "tags": []
   },
   "source": [
    "# Concept of NLP with Disasterious Tweets\n"
   ]
  },
  {
   "cell_type": "markdown",
   "metadata": {
    "papermill": {
     "duration": 0.036981,
     "end_time": "2020-12-22T07:34:46.064160",
     "exception": false,
     "start_time": "2020-12-22T07:34:46.027179",
     "status": "completed"
    },
    "tags": []
   },
   "source": [
    "# INTRODUCTION\n",
    "\n",
    "## Data Description:\n",
    "### Disaster Tweets\n",
    "This dataset reflects the disasterious tweets by people at different areas of globe. Data is extracted from kaggle which is also availabe in reknown website for dataset named appen. In dataset tweets are stored according to location, also keywords and targets have been stored. Total data is divided in 3 seperate diles named as train.csv, test.csv and sample_submission.csv Data Content is as follows:\n",
    "\n",
    "\n",
    "<b>train.csv - the training set</b><br>\n",
    "In training data there are total 7613 rows and 5 columns.\n",
    "5 coulmns are:\n",
    "- <b>ID</b> - Unique identifier for the record.\n",
    "- <b>Keyword</b> - Short words for tweets\n",
    "- <b>Location</b> -Area from where tweet has been tweeted\n",
    "- <b>Text</b> - Tweets are named as text\n",
    "- <b>Target</b> - Either tweet is positive i.e. 1 with respect to disaster or negative with respect to disaster\n",
    "\n",
    "<b>test.csv - the testing set</b><br>\n",
    "In testing data there are total 3263 rows and 4 columns.\n",
    "4 coulmns are:\n",
    "- <b>ID</b> - Unique identifier for the record.\n",
    "- <b>Keyword</b> - Short words for tweets\n",
    "- <b>Location</b> -Area from where tweet has been tweeted\n",
    "- <b>Text</b> - Tweets are named as text\n",
    "\n",
    "\n",
    "### Total Tweets: \n",
    "10,000\n",
    "\n",
    "### Data Sourse:\n",
    "https://appen.com/resources/datasets/\n"
   ]
  },
  {
   "cell_type": "code",
   "execution_count": 50,
   "metadata": {
    "_cell_guid": "b1076dfc-b9ad-4769-8c92-a6c4dae69d19",
    "_kg_hide-input": true,
    "_uuid": "8f2839f25d086af736a60e9eeb907d3b93b6e0e5",
    "execution": {
     "iopub.execute_input": "2020-12-22T07:34:46.143600Z",
     "iopub.status.busy": "2020-12-22T07:34:46.142731Z",
     "iopub.status.idle": "2020-12-22T07:34:47.410293Z",
     "shell.execute_reply": "2020-12-22T07:34:47.409284Z"
    },
    "papermill": {
     "duration": 1.311167,
     "end_time": "2020-12-22T07:34:47.410455",
     "exception": false,
     "start_time": "2020-12-22T07:34:46.099288",
     "status": "completed"
    },
    "tags": []
   },
   "outputs": [
    {
     "data": {
      "text/html": [
       "        <script type=\"text/javascript\">\n",
       "        window.PlotlyConfig = {MathJaxConfig: 'local'};\n",
       "        if (window.MathJax) {MathJax.Hub.Config({SVG: {font: \"STIX-Web\"}});}\n",
       "        if (typeof require !== 'undefined') {\n",
       "        require.undef(\"plotly\");\n",
       "        requirejs.config({\n",
       "            paths: {\n",
       "                'plotly': ['https://cdn.plot.ly/plotly-latest.min']\n",
       "            }\n",
       "        });\n",
       "        require(['plotly'], function(Plotly) {\n",
       "            window._Plotly = Plotly;\n",
       "        });\n",
       "        }\n",
       "        </script>\n",
       "        "
      ]
     },
     "metadata": {},
     "output_type": "display_data"
    }
   ],
   "source": [
    "import numpy as np # linear algebra\n",
    "import pandas as pd # data processing, CSV file I/O (e.g. pd.read_csv)\n",
    "import os\n",
    "import seaborn as sns\n",
    "import matplotlib.pyplot as plt\n",
    "from plotly.offline import init_notebook_mode, iplot, plot\n",
    "import plotly as py\n",
    "init_notebook_mode(connected=True)\n",
    "import plotly.graph_objs as go\n",
    "import warnings\n",
    "# ignore warnings\n",
    "warnings.filterwarnings(\"ignore\")\n",
    "\n",
    "for dirname, _, filenames in os.walk('/kaggle/input'):\n",
    "    for filename in filenames:\n",
    "        print(os.path.join(dirname, filename))\n"
   ]
  },
  {
   "cell_type": "markdown",
   "metadata": {
    "papermill": {
     "duration": 0.035599,
     "end_time": "2020-12-22T07:34:47.482043",
     "exception": false,
     "start_time": "2020-12-22T07:34:47.446444",
     "status": "completed"
    },
    "tags": []
   },
   "source": [
    "<a id='1'></a>\n",
    "# 1- Data Reading and Data Pre-Processing"
   ]
  },
  {
   "cell_type": "markdown",
   "metadata": {
    "papermill": {
     "duration": 0.035599,
     "end_time": "2020-12-22T07:34:47.482043",
     "exception": false,
     "start_time": "2020-12-22T07:34:47.446444",
     "status": "completed"
    },
    "tags": []
   },
   "source": [
    "\n",
    "### Data Reading"
   ]
  },
  {
   "cell_type": "code",
   "execution_count": 51,
   "metadata": {},
   "outputs": [],
   "source": [
    "train=pd.read_csv(\"train.csv\")\n",
    "test=pd.read_csv(\"test.csv\")"
   ]
  },
  {
   "cell_type": "markdown",
   "metadata": {
    "papermill": {
     "duration": 0.035599,
     "end_time": "2020-12-22T07:34:47.482043",
     "exception": false,
     "start_time": "2020-12-22T07:34:47.446444",
     "status": "completed"
    },
    "tags": []
   },
   "source": [
    "                                                  Train Data Information"
   ]
  },
  {
   "cell_type": "code",
   "execution_count": 52,
   "metadata": {},
   "outputs": [
    {
     "data": {
      "text/html": [
       "<div>\n",
       "<style scoped>\n",
       "    .dataframe tbody tr th:only-of-type {\n",
       "        vertical-align: middle;\n",
       "    }\n",
       "\n",
       "    .dataframe tbody tr th {\n",
       "        vertical-align: top;\n",
       "    }\n",
       "\n",
       "    .dataframe thead th {\n",
       "        text-align: right;\n",
       "    }\n",
       "</style>\n",
       "<table border=\"1\" class=\"dataframe\">\n",
       "  <thead>\n",
       "    <tr style=\"text-align: right;\">\n",
       "      <th></th>\n",
       "      <th>id</th>\n",
       "      <th>keyword</th>\n",
       "      <th>location</th>\n",
       "      <th>text</th>\n",
       "      <th>target</th>\n",
       "    </tr>\n",
       "  </thead>\n",
       "  <tbody>\n",
       "    <tr>\n",
       "      <th>0</th>\n",
       "      <td>1</td>\n",
       "      <td>NaN</td>\n",
       "      <td>NaN</td>\n",
       "      <td>Our Deeds are the Reason of this #earthquake M...</td>\n",
       "      <td>1</td>\n",
       "    </tr>\n",
       "    <tr>\n",
       "      <th>1</th>\n",
       "      <td>4</td>\n",
       "      <td>NaN</td>\n",
       "      <td>NaN</td>\n",
       "      <td>Forest fire near La Ronge Sask. Canada</td>\n",
       "      <td>1</td>\n",
       "    </tr>\n",
       "    <tr>\n",
       "      <th>2</th>\n",
       "      <td>5</td>\n",
       "      <td>NaN</td>\n",
       "      <td>NaN</td>\n",
       "      <td>All residents asked to 'shelter in place' are ...</td>\n",
       "      <td>1</td>\n",
       "    </tr>\n",
       "    <tr>\n",
       "      <th>3</th>\n",
       "      <td>6</td>\n",
       "      <td>NaN</td>\n",
       "      <td>NaN</td>\n",
       "      <td>13,000 people receive #wildfires evacuation or...</td>\n",
       "      <td>1</td>\n",
       "    </tr>\n",
       "    <tr>\n",
       "      <th>4</th>\n",
       "      <td>7</td>\n",
       "      <td>NaN</td>\n",
       "      <td>NaN</td>\n",
       "      <td>Just got sent this photo from Ruby #Alaska as ...</td>\n",
       "      <td>1</td>\n",
       "    </tr>\n",
       "  </tbody>\n",
       "</table>\n",
       "</div>"
      ],
      "text/plain": [
       "   id keyword location                                               text  \\\n",
       "0   1     NaN      NaN  Our Deeds are the Reason of this #earthquake M...   \n",
       "1   4     NaN      NaN             Forest fire near La Ronge Sask. Canada   \n",
       "2   5     NaN      NaN  All residents asked to 'shelter in place' are ...   \n",
       "3   6     NaN      NaN  13,000 people receive #wildfires evacuation or...   \n",
       "4   7     NaN      NaN  Just got sent this photo from Ruby #Alaska as ...   \n",
       "\n",
       "   target  \n",
       "0       1  \n",
       "1       1  \n",
       "2       1  \n",
       "3       1  \n",
       "4       1  "
      ]
     },
     "execution_count": 52,
     "metadata": {},
     "output_type": "execute_result"
    }
   ],
   "source": [
    "train.head()"
   ]
  },
  {
   "cell_type": "code",
   "execution_count": 53,
   "metadata": {},
   "outputs": [
    {
     "name": "stdout",
     "output_type": "stream",
     "text": [
      "<class 'pandas.core.frame.DataFrame'>\n",
      "RangeIndex: 7613 entries, 0 to 7612\n",
      "Data columns (total 5 columns):\n",
      " #   Column    Non-Null Count  Dtype \n",
      "---  ------    --------------  ----- \n",
      " 0   id        7613 non-null   int64 \n",
      " 1   keyword   7552 non-null   object\n",
      " 2   location  5080 non-null   object\n",
      " 3   text      7613 non-null   object\n",
      " 4   target    7613 non-null   int64 \n",
      "dtypes: int64(2), object(3)\n",
      "memory usage: 297.5+ KB\n"
     ]
    }
   ],
   "source": [
    "train.info()"
   ]
  },
  {
   "cell_type": "code",
   "execution_count": 54,
   "metadata": {},
   "outputs": [
    {
     "data": {
      "text/plain": [
       "(7613, 5)"
      ]
     },
     "execution_count": 54,
     "metadata": {},
     "output_type": "execute_result"
    }
   ],
   "source": [
    "train.shape"
   ]
  },
  {
   "cell_type": "markdown",
   "metadata": {
    "papermill": {
     "duration": 0.035599,
     "end_time": "2020-12-22T07:34:47.482043",
     "exception": false,
     "start_time": "2020-12-22T07:34:47.446444",
     "status": "completed"
    },
    "tags": []
   },
   "source": [
    "It shows Train data have 5 columns and 7613 rows"
   ]
  },
  {
   "cell_type": "markdown",
   "metadata": {
    "papermill": {
     "duration": 0.035599,
     "end_time": "2020-12-22T07:34:47.482043",
     "exception": false,
     "start_time": "2020-12-22T07:34:47.446444",
     "status": "completed"
    },
    "tags": []
   },
   "source": [
    "                                              Test Data Information"
   ]
  },
  {
   "cell_type": "code",
   "execution_count": 55,
   "metadata": {
    "execution": {
     "iopub.execute_input": "2020-12-22T07:34:47.819357Z",
     "iopub.status.busy": "2020-12-22T07:34:47.815990Z",
     "iopub.status.idle": "2020-12-22T07:34:47.827267Z",
     "shell.execute_reply": "2020-12-22T07:34:47.826703Z"
    },
    "papermill": {
     "duration": 0.053821,
     "end_time": "2020-12-22T07:34:47.827393",
     "exception": false,
     "start_time": "2020-12-22T07:34:47.773572",
     "status": "completed"
    },
    "tags": []
   },
   "outputs": [
    {
     "data": {
      "text/html": [
       "<div>\n",
       "<style scoped>\n",
       "    .dataframe tbody tr th:only-of-type {\n",
       "        vertical-align: middle;\n",
       "    }\n",
       "\n",
       "    .dataframe tbody tr th {\n",
       "        vertical-align: top;\n",
       "    }\n",
       "\n",
       "    .dataframe thead th {\n",
       "        text-align: right;\n",
       "    }\n",
       "</style>\n",
       "<table border=\"1\" class=\"dataframe\">\n",
       "  <thead>\n",
       "    <tr style=\"text-align: right;\">\n",
       "      <th></th>\n",
       "      <th>id</th>\n",
       "      <th>keyword</th>\n",
       "      <th>location</th>\n",
       "      <th>text</th>\n",
       "    </tr>\n",
       "  </thead>\n",
       "  <tbody>\n",
       "    <tr>\n",
       "      <th>0</th>\n",
       "      <td>0</td>\n",
       "      <td>NaN</td>\n",
       "      <td>NaN</td>\n",
       "      <td>Just happened a terrible car crash</td>\n",
       "    </tr>\n",
       "    <tr>\n",
       "      <th>1</th>\n",
       "      <td>2</td>\n",
       "      <td>NaN</td>\n",
       "      <td>NaN</td>\n",
       "      <td>Heard about #earthquake is different cities, s...</td>\n",
       "    </tr>\n",
       "    <tr>\n",
       "      <th>2</th>\n",
       "      <td>3</td>\n",
       "      <td>NaN</td>\n",
       "      <td>NaN</td>\n",
       "      <td>there is a forest fire at spot pond, geese are...</td>\n",
       "    </tr>\n",
       "    <tr>\n",
       "      <th>3</th>\n",
       "      <td>9</td>\n",
       "      <td>NaN</td>\n",
       "      <td>NaN</td>\n",
       "      <td>Apocalypse lighting. #Spokane #wildfires</td>\n",
       "    </tr>\n",
       "    <tr>\n",
       "      <th>4</th>\n",
       "      <td>11</td>\n",
       "      <td>NaN</td>\n",
       "      <td>NaN</td>\n",
       "      <td>Typhoon Soudelor kills 28 in China and Taiwan</td>\n",
       "    </tr>\n",
       "  </tbody>\n",
       "</table>\n",
       "</div>"
      ],
      "text/plain": [
       "   id keyword location                                               text\n",
       "0   0     NaN      NaN                 Just happened a terrible car crash\n",
       "1   2     NaN      NaN  Heard about #earthquake is different cities, s...\n",
       "2   3     NaN      NaN  there is a forest fire at spot pond, geese are...\n",
       "3   9     NaN      NaN           Apocalypse lighting. #Spokane #wildfires\n",
       "4  11     NaN      NaN      Typhoon Soudelor kills 28 in China and Taiwan"
      ]
     },
     "execution_count": 55,
     "metadata": {},
     "output_type": "execute_result"
    }
   ],
   "source": [
    "test.head()"
   ]
  },
  {
   "cell_type": "code",
   "execution_count": 56,
   "metadata": {
    "execution": {
     "iopub.execute_input": "2020-12-22T07:34:47.908987Z",
     "iopub.status.busy": "2020-12-22T07:34:47.908297Z",
     "iopub.status.idle": "2020-12-22T07:34:47.919697Z",
     "shell.execute_reply": "2020-12-22T07:34:47.919019Z"
    },
    "papermill": {
     "duration": 0.057003,
     "end_time": "2020-12-22T07:34:47.919830",
     "exception": false,
     "start_time": "2020-12-22T07:34:47.862827",
     "status": "completed"
    },
    "tags": []
   },
   "outputs": [
    {
     "name": "stdout",
     "output_type": "stream",
     "text": [
      "<class 'pandas.core.frame.DataFrame'>\n",
      "RangeIndex: 3263 entries, 0 to 3262\n",
      "Data columns (total 4 columns):\n",
      " #   Column    Non-Null Count  Dtype \n",
      "---  ------    --------------  ----- \n",
      " 0   id        3263 non-null   int64 \n",
      " 1   keyword   3237 non-null   object\n",
      " 2   location  2158 non-null   object\n",
      " 3   text      3263 non-null   object\n",
      "dtypes: int64(1), object(3)\n",
      "memory usage: 102.1+ KB\n"
     ]
    }
   ],
   "source": [
    "test.info() "
   ]
  },
  {
   "cell_type": "code",
   "execution_count": 57,
   "metadata": {
    "execution": {
     "iopub.execute_input": "2020-12-22T07:34:48.005329Z",
     "iopub.status.busy": "2020-12-22T07:34:48.004470Z",
     "iopub.status.idle": "2020-12-22T07:34:48.009658Z",
     "shell.execute_reply": "2020-12-22T07:34:48.008943Z"
    },
    "papermill": {
     "duration": 0.052752,
     "end_time": "2020-12-22T07:34:48.009792",
     "exception": false,
     "start_time": "2020-12-22T07:34:47.957040",
     "status": "completed"
    },
    "tags": []
   },
   "outputs": [
    {
     "data": {
      "text/html": [
       "<div>\n",
       "<style scoped>\n",
       "    .dataframe tbody tr th:only-of-type {\n",
       "        vertical-align: middle;\n",
       "    }\n",
       "\n",
       "    .dataframe tbody tr th {\n",
       "        vertical-align: top;\n",
       "    }\n",
       "\n",
       "    .dataframe thead th {\n",
       "        text-align: right;\n",
       "    }\n",
       "</style>\n",
       "<table border=\"1\" class=\"dataframe\">\n",
       "  <thead>\n",
       "    <tr style=\"text-align: right;\">\n",
       "      <th></th>\n",
       "      <th>id</th>\n",
       "      <th>keyword</th>\n",
       "      <th>location</th>\n",
       "      <th>text</th>\n",
       "    </tr>\n",
       "  </thead>\n",
       "  <tbody>\n",
       "    <tr>\n",
       "      <th>3258</th>\n",
       "      <td>10861</td>\n",
       "      <td>NaN</td>\n",
       "      <td>NaN</td>\n",
       "      <td>EARTHQUAKE SAFETY LOS ANGELES ÛÒ SAFETY FASTE...</td>\n",
       "    </tr>\n",
       "    <tr>\n",
       "      <th>3259</th>\n",
       "      <td>10865</td>\n",
       "      <td>NaN</td>\n",
       "      <td>NaN</td>\n",
       "      <td>Storm in RI worse than last hurricane. My city...</td>\n",
       "    </tr>\n",
       "    <tr>\n",
       "      <th>3260</th>\n",
       "      <td>10868</td>\n",
       "      <td>NaN</td>\n",
       "      <td>NaN</td>\n",
       "      <td>Green Line derailment in Chicago http://t.co/U...</td>\n",
       "    </tr>\n",
       "    <tr>\n",
       "      <th>3261</th>\n",
       "      <td>10874</td>\n",
       "      <td>NaN</td>\n",
       "      <td>NaN</td>\n",
       "      <td>MEG issues Hazardous Weather Outlook (HWO) htt...</td>\n",
       "    </tr>\n",
       "    <tr>\n",
       "      <th>3262</th>\n",
       "      <td>10875</td>\n",
       "      <td>NaN</td>\n",
       "      <td>NaN</td>\n",
       "      <td>#CityofCalgary has activated its Municipal Eme...</td>\n",
       "    </tr>\n",
       "  </tbody>\n",
       "</table>\n",
       "</div>"
      ],
      "text/plain": [
       "         id keyword location  \\\n",
       "3258  10861     NaN      NaN   \n",
       "3259  10865     NaN      NaN   \n",
       "3260  10868     NaN      NaN   \n",
       "3261  10874     NaN      NaN   \n",
       "3262  10875     NaN      NaN   \n",
       "\n",
       "                                                   text  \n",
       "3258  EARTHQUAKE SAFETY LOS ANGELES ÛÒ SAFETY FASTE...  \n",
       "3259  Storm in RI worse than last hurricane. My city...  \n",
       "3260  Green Line derailment in Chicago http://t.co/U...  \n",
       "3261  MEG issues Hazardous Weather Outlook (HWO) htt...  \n",
       "3262  #CityofCalgary has activated its Municipal Eme...  "
      ]
     },
     "execution_count": 57,
     "metadata": {},
     "output_type": "execute_result"
    }
   ],
   "source": [
    "test.tail()"
   ]
  },
  {
   "cell_type": "code",
   "execution_count": 58,
   "metadata": {
    "scrolled": true
   },
   "outputs": [
    {
     "data": {
      "text/plain": [
       "(3263, 4)"
      ]
     },
     "execution_count": 58,
     "metadata": {},
     "output_type": "execute_result"
    }
   ],
   "source": [
    "test.shape"
   ]
  },
  {
   "cell_type": "markdown",
   "metadata": {
    "papermill": {
     "duration": 0.035599,
     "end_time": "2020-12-22T07:34:47.482043",
     "exception": false,
     "start_time": "2020-12-22T07:34:47.446444",
     "status": "completed"
    },
    "tags": []
   },
   "source": [
    "It shows Test data have 4 columns and 3263 rows"
   ]
  },
  {
   "cell_type": "markdown",
   "metadata": {
    "papermill": {
     "duration": 0.035599,
     "end_time": "2020-12-22T07:34:47.482043",
     "exception": false,
     "start_time": "2020-12-22T07:34:47.446444",
     "status": "completed"
    },
    "tags": []
   },
   "source": [
    "\n",
    "### Data Pre-procssing"
   ]
  },
  {
   "cell_type": "markdown",
   "metadata": {
    "papermill": {
     "duration": 0.035599,
     "end_time": "2020-12-22T07:34:47.482043",
     "exception": false,
     "start_time": "2020-12-22T07:34:47.446444",
     "status": "completed"
    },
    "tags": []
   },
   "source": [
    "                                        Finding missing values"
   ]
  },
  {
   "cell_type": "code",
   "execution_count": 59,
   "metadata": {
    "execution": {
     "iopub.execute_input": "2020-12-22T07:34:48.093742Z",
     "iopub.status.busy": "2020-12-22T07:34:48.092857Z",
     "iopub.status.idle": "2020-12-22T07:34:48.097572Z",
     "shell.execute_reply": "2020-12-22T07:34:48.098144Z"
    },
    "papermill": {
     "duration": 0.052028,
     "end_time": "2020-12-22T07:34:48.098301",
     "exception": false,
     "start_time": "2020-12-22T07:34:48.046273",
     "status": "completed"
    },
    "tags": []
   },
   "outputs": [
    {
     "data": {
      "text/plain": [
       "id             0\n",
       "keyword       61\n",
       "location    2533\n",
       "text           0\n",
       "target         0\n",
       "dtype: int64"
      ]
     },
     "execution_count": 59,
     "metadata": {},
     "output_type": "execute_result"
    }
   ],
   "source": [
    "train.isnull().sum()"
   ]
  },
  {
   "cell_type": "code",
   "execution_count": 60,
   "metadata": {
    "execution": {
     "iopub.execute_input": "2020-12-22T07:34:48.181633Z",
     "iopub.status.busy": "2020-12-22T07:34:48.180719Z",
     "iopub.status.idle": "2020-12-22T07:34:48.185058Z",
     "shell.execute_reply": "2020-12-22T07:34:48.185627Z"
    },
    "papermill": {
     "duration": 0.050061,
     "end_time": "2020-12-22T07:34:48.185798",
     "exception": false,
     "start_time": "2020-12-22T07:34:48.135737",
     "status": "completed"
    },
    "tags": []
   },
   "outputs": [
    {
     "data": {
      "text/plain": [
       "id             0\n",
       "keyword       26\n",
       "location    1105\n",
       "text           0\n",
       "dtype: int64"
      ]
     },
     "execution_count": 60,
     "metadata": {},
     "output_type": "execute_result"
    }
   ],
   "source": [
    "test.isnull().sum()"
   ]
  },
  {
   "cell_type": "markdown",
   "metadata": {
    "papermill": {
     "duration": 0.039093,
     "end_time": "2020-12-22T07:34:48.264240",
     "exception": false,
     "start_time": "2020-12-22T07:34:48.225147",
     "status": "completed"
    },
    "tags": []
   },
   "source": [
    "As we can see there are missing values in key and location columns.\n"
   ]
  },
  {
   "cell_type": "markdown",
   "metadata": {
    "papermill": {
     "duration": 0.035599,
     "end_time": "2020-12-22T07:34:47.482043",
     "exception": false,
     "start_time": "2020-12-22T07:34:47.446444",
     "status": "completed"
    },
    "tags": []
   },
   "source": [
    "                                        Removing missing values"
   ]
  },
  {
   "cell_type": "code",
   "execution_count": 61,
   "metadata": {
    "execution": {
     "iopub.execute_input": "2020-12-22T07:34:48.347776Z",
     "iopub.status.busy": "2020-12-22T07:34:48.347010Z",
     "iopub.status.idle": "2020-12-22T07:34:48.351050Z",
     "shell.execute_reply": "2020-12-22T07:34:48.350457Z"
    },
    "papermill": {
     "duration": 0.0477,
     "end_time": "2020-12-22T07:34:48.351166",
     "exception": false,
     "start_time": "2020-12-22T07:34:48.303466",
     "status": "completed"
    },
    "tags": []
   },
   "outputs": [],
   "source": [
    "test.dropna(how='any',axis=0,inplace=True)"
   ]
  },
  {
   "cell_type": "code",
   "execution_count": 62,
   "metadata": {},
   "outputs": [
    {
     "data": {
      "text/plain": [
       "id          0\n",
       "keyword     0\n",
       "location    0\n",
       "text        0\n",
       "dtype: int64"
      ]
     },
     "execution_count": 62,
     "metadata": {},
     "output_type": "execute_result"
    }
   ],
   "source": [
    "test.isnull().sum()"
   ]
  },
  {
   "cell_type": "code",
   "execution_count": 63,
   "metadata": {
    "execution": {
     "iopub.execute_input": "2020-12-22T07:34:48.438458Z",
     "iopub.status.busy": "2020-12-22T07:34:48.437730Z",
     "iopub.status.idle": "2020-12-22T07:34:48.468142Z",
     "shell.execute_reply": "2020-12-22T07:34:48.467519Z"
    },
    "papermill": {
     "duration": 0.078027,
     "end_time": "2020-12-22T07:34:48.468256",
     "exception": false,
     "start_time": "2020-12-22T07:34:48.390229",
     "status": "completed"
    },
    "tags": []
   },
   "outputs": [],
   "source": [
    "train.dropna(how='any',axis=0,inplace=True)"
   ]
  },
  {
   "cell_type": "code",
   "execution_count": 64,
   "metadata": {
    "execution": {
     "iopub.execute_input": "2020-12-22T07:34:48.553584Z",
     "iopub.status.busy": "2020-12-22T07:34:48.552875Z",
     "iopub.status.idle": "2020-12-22T07:34:48.556325Z",
     "shell.execute_reply": "2020-12-22T07:34:48.556860Z"
    },
    "papermill": {
     "duration": 0.050426,
     "end_time": "2020-12-22T07:34:48.557009",
     "exception": false,
     "start_time": "2020-12-22T07:34:48.506583",
     "status": "completed"
    },
    "tags": []
   },
   "outputs": [
    {
     "data": {
      "text/plain": [
       "id          0\n",
       "keyword     0\n",
       "location    0\n",
       "text        0\n",
       "target      0\n",
       "dtype: int64"
      ]
     },
     "execution_count": 64,
     "metadata": {},
     "output_type": "execute_result"
    }
   ],
   "source": [
    "train.isnull().sum()"
   ]
  },
  {
   "cell_type": "markdown",
   "metadata": {
    "papermill": {
     "duration": 0.038364,
     "end_time": "2020-12-22T07:34:48.634361",
     "exception": false,
     "start_time": "2020-12-22T07:34:48.595997",
     "status": "completed"
    },
    "tags": []
   },
   "source": [
    "Now we can see all missing values have been removed"
   ]
  },
  {
   "cell_type": "code",
   "execution_count": 65,
   "metadata": {
    "execution": {
     "iopub.execute_input": "2020-12-22T07:34:48.714948Z",
     "iopub.status.busy": "2020-12-22T07:34:48.714287Z",
     "iopub.status.idle": "2020-12-22T07:34:48.721087Z",
     "shell.execute_reply": "2020-12-22T07:34:48.721703Z"
    },
    "papermill": {
     "duration": 0.04896,
     "end_time": "2020-12-22T07:34:48.721857",
     "exception": false,
     "start_time": "2020-12-22T07:34:48.672897",
     "status": "completed"
    },
    "tags": []
   },
   "outputs": [
    {
     "name": "stdout",
     "output_type": "stream",
     "text": [
      "Training records after removing null values: (5080, 5)\n",
      "Testing records after removing null values: (2158, 4)\n"
     ]
    }
   ],
   "source": [
    "print(\"Training records after removing null values:\",train.shape)\n",
    "print(\"Testing records after removing null values:\",test.shape)"
   ]
  },
  {
   "cell_type": "markdown",
   "metadata": {
    "papermill": {
     "duration": 0.038364,
     "end_time": "2020-12-22T07:34:48.634361",
     "exception": false,
     "start_time": "2020-12-22T07:34:48.595997",
     "status": "completed"
    },
    "tags": []
   },
   "source": [
    "We can see testing data had 7613 rows now it is left with 5080 rows <br>\n",
    "and testing data had 3263 rows now it is left with 2158 rows"
   ]
  },
  {
   "cell_type": "code",
   "execution_count": 66,
   "metadata": {},
   "outputs": [
    {
     "data": {
      "text/plain": [
       "5080"
      ]
     },
     "execution_count": 66,
     "metadata": {},
     "output_type": "execute_result"
    }
   ],
   "source": [
    "len(set(train['id']))"
   ]
  },
  {
   "cell_type": "markdown",
   "metadata": {
    "papermill": {
     "duration": 0.038364,
     "end_time": "2020-12-22T07:34:48.634361",
     "exception": false,
     "start_time": "2020-12-22T07:34:48.595997",
     "status": "completed"
    },
    "tags": []
   },
   "source": [
    "It shows that tweets are tweeted by 5080 unique users, if we consider train dataset"
   ]
  },
  {
   "cell_type": "code",
   "execution_count": 67,
   "metadata": {},
   "outputs": [
    {
     "data": {
      "text/plain": [
       "2158"
      ]
     },
     "execution_count": 67,
     "metadata": {},
     "output_type": "execute_result"
    }
   ],
   "source": [
    "len(set(test['id']))"
   ]
  },
  {
   "cell_type": "markdown",
   "metadata": {
    "papermill": {
     "duration": 0.038364,
     "end_time": "2020-12-22T07:34:48.634361",
     "exception": false,
     "start_time": "2020-12-22T07:34:48.595997",
     "status": "completed"
    },
    "tags": []
   },
   "source": [
    "It shows that tweets are tweeted by 2158 unique users, if we consider test dataset"
   ]
  },
  {
   "cell_type": "markdown",
   "metadata": {
    "papermill": {
     "duration": 0.038364,
     "end_time": "2020-12-22T07:34:48.634361",
     "exception": false,
     "start_time": "2020-12-22T07:34:48.595997",
     "status": "completed"
    },
    "tags": []
   },
   "source": [
    "                                     Count of positive(1) or negative(0) tweets "
   ]
  },
  {
   "cell_type": "code",
   "execution_count": 68,
   "metadata": {},
   "outputs": [
    {
     "name": "stdout",
     "output_type": "stream",
     "text": [
      "                With Respect to Train data\n"
     ]
    },
    {
     "data": {
      "image/png": "[encoded data removed]",
      "text/plain": [
       "<Figure size 432x288 with 1 Axes>"
      ]
     },
     "metadata": {
      "needs_background": "light"
     },
     "output_type": "display_data"
    },
    {
     "name": "stdout",
     "output_type": "stream",
     "text": [
      "0    2884\n",
      "1    2196\n",
      "Name: target, dtype: int64\n"
     ]
    }
   ],
   "source": [
    "print ('                With Respect to Train data')\n",
    "\n",
    "sns.countplot(train['target'], palette=\"Set3\")\n",
    "plt.show()\n",
    "print(train['target'].value_counts())"
   ]
  },
  {
   "cell_type": "markdown",
   "metadata": {
    "papermill": {
     "duration": 0.039955,
     "end_time": "2020-12-22T07:34:48.800853",
     "exception": false,
     "start_time": "2020-12-22T07:34:48.760898",
     "status": "completed"
    },
    "tags": []
   },
   "source": [
    "It shows that Training data have 2884 non-disasterious tweets and 2196 disasterious tweets"
   ]
  },
  {
   "cell_type": "markdown",
   "metadata": {
    "papermill": {
     "duration": 0.039955,
     "end_time": "2020-12-22T07:34:48.800853",
     "exception": false,
     "start_time": "2020-12-22T07:34:48.760898",
     "status": "completed"
    },
    "tags": []
   },
   "source": [
    "                                                   Most Used Keywords"
   ]
  },
  {
   "cell_type": "code",
   "execution_count": 69,
   "metadata": {},
   "outputs": [
    {
     "data": {
      "image/png": "[encoded data removed]",
      "text/plain": [
       "<Figure size 432x288 with 1 Axes>"
      ]
     },
     "metadata": {
      "needs_background": "light"
     },
     "output_type": "display_data"
    }
   ],
   "source": [
    "\n",
    "sns.countplot(y = train.keyword,order = train['keyword'].value_counts().sort_values(ascending=False).iloc[0:10].index)\n",
    "plt.title(\"Count of Keywords\")\n",
    "plt.show() # It shows the most usage keywords"
   ]
  },
  {
   "cell_type": "markdown",
   "metadata": {
    "papermill": {
     "duration": 0.039955,
     "end_time": "2020-12-22T07:34:48.800853",
     "exception": false,
     "start_time": "2020-12-22T07:34:48.760898",
     "status": "completed"
    },
    "tags": []
   },
   "source": [
    "It shows top 10 keywords used in train data"
   ]
  },
  {
   "cell_type": "markdown",
   "metadata": {
    "papermill": {
     "duration": 0.039955,
     "end_time": "2020-12-22T07:34:48.800853",
     "exception": false,
     "start_time": "2020-12-22T07:34:48.760898",
     "status": "completed"
    },
    "tags": []
   },
   "source": [
    "                                                  Most Used Disasterious Keywords\n",
    "                                                  \n",
    "We will identify most used disasterious keywords by finding keywords vs Target"
   ]
  },
  {
   "cell_type": "code",
   "execution_count": 70,
   "metadata": {},
   "outputs": [
    {
     "data": {
      "image/png": "[encoded data removed]",
      "text/plain": [
       "<Figure size 576x360 with 1 Axes>"
      ]
     },
     "metadata": {
      "needs_background": "light"
     },
     "output_type": "display_data"
    }
   ],
   "source": [
    "disastered_tweet = train.groupby('keyword')['target'].mean().sort_values(ascending=False).head(10)\n",
    "\n",
    "plt.figure(figsize=(8,5))\n",
    "sns.barplot(disastered_tweet, disastered_tweet.index, color='pink')\n",
    "plt.title('disaster tweets Keywords %age')\n",
    "plt.show()"
   ]
  },
  {
   "cell_type": "markdown",
   "metadata": {
    "papermill": {
     "duration": 0.039955,
     "end_time": "2020-12-22T07:34:48.800853",
     "exception": false,
     "start_time": "2020-12-22T07:34:48.760898",
     "status": "completed"
    },
    "tags": []
   },
   "source": [
    "                                                 Least Disasterious Keywords\n",
    "                                                  \n",
    "We will identify least used disasterious keywords by finding keywords vs Target"
   ]
  },
  {
   "cell_type": "code",
   "execution_count": 71,
   "metadata": {
    "scrolled": true
   },
   "outputs": [
    {
     "data": {
      "image/png": "[encoded data removed]",
      "text/plain": [
       "<Figure size 576x360 with 1 Axes>"
      ]
     },
     "metadata": {
      "needs_background": "light"
     },
     "output_type": "display_data"
    }
   ],
   "source": [
    "non_disasterd  = train.groupby('keyword')['target'].mean().sort_values().head(10)\n",
    "plt.figure(figsize=(8,5))\n",
    "sns.barplot(non_disasterd, non_disasterd.index, color='skyblue')\n",
    "plt.title('non-disaster tweets %age')\n",
    "plt.show()     #confused, Need to Understand"
   ]
  },
  {
   "cell_type": "markdown",
   "metadata": {
    "papermill": {
     "duration": 0.039955,
     "end_time": "2020-12-22T07:34:48.800853",
     "exception": false,
     "start_time": "2020-12-22T07:34:48.760898",
     "status": "completed"
    },
    "tags": []
   },
   "source": [
    "\n",
    "# 2. Data Cleaning\n",
    "Data cleaning is a process of cleaning data by removing unnecessary information, removing duplicate or incorrect inforamtion and to fix the format of dataset. \n",
    "Following are the basic steps for data cleaning:<br>\n",
    "<b>Step 1:</b> Remove duplicate or irrelevant observations<br>\n",
    "<b>Step 2:</b> Fix structural errors<br>\n",
    "<b>Step 3:</b> Filter unwanted outliers<br>\n",
    "<b>Step 4:</b> Handle missing data<br>\n",
    "<br>\n",
    "There are multiple techniques to clean the dataset according to the type of dataset. We will be using following: \n",
    "1. Regular Expression (RE)\n",
    "2. Feature Extraction\n",
    "3. Irrelavant Words (Stopwords)"
   ]
  },
  {
   "cell_type": "markdown",
   "metadata": {
    "papermill": {
     "duration": 0.03972,
     "end_time": "2020-12-22T07:34:48.880204",
     "exception": false,
     "start_time": "2020-12-22T07:34:48.840484",
     "status": "completed"
    },
    "tags": []
   },
   "source": [
    "\n",
    "## 2.1. Regular Expression\n",
    "For an accurate analysis with texts: characters other than letters that make up words such as blank values, emojies, punctuation marks, numbers will be removed.\n"
   ]
  },
  {
   "cell_type": "code",
   "execution_count": 72,
   "metadata": {},
   "outputs": [],
   "source": [
    "import re "
   ]
  },
  {
   "cell_type": "markdown",
   "metadata": {
    "papermill": {
     "duration": 0.03972,
     "end_time": "2020-12-22T07:34:48.880204",
     "exception": false,
     "start_time": "2020-12-22T07:34:48.840484",
     "status": "completed"
    },
    "tags": []
   },
   "source": [
    "                                         Removing Special Characters from Tweets\n",
    "In order to see if there are any special characters used in tweets we will check any random tweet.\n"
   ]
  },
  {
   "cell_type": "code",
   "execution_count": 73,
   "metadata": {},
   "outputs": [
    {
     "data": {
      "text/plain": [
       "'Man wife get six years jail for setting ablaze niece\\nhttp://t.co/eV1ahOUCZA'"
      ]
     },
     "execution_count": 73,
     "metadata": {},
     "output_type": "execute_result"
    }
   ],
   "source": [
    "train['text'].iloc[14]"
   ]
  },
  {
   "cell_type": "markdown",
   "metadata": {
    "papermill": {
     "duration": 0.03972,
     "end_time": "2020-12-22T07:34:48.880204",
     "exception": false,
     "start_time": "2020-12-22T07:34:48.840484",
     "status": "completed"
    },
    "tags": []
   },
   "source": [
    "As we can see there are so many special characters have been used above like hypelink, /, \\ etc. To remove these all we will split hashtag, Links and tags."
   ]
  },
  {
   "cell_type": "code",
   "execution_count": 74,
   "metadata": {},
   "outputs": [],
   "source": [
    "def created_feature(train):\n",
    "    train['hashtags'] = train['text'].apply(lambda x: \" \".join([match.group(0)[1:] for match in re.finditer(r\"#\\w+\", x)]) or 'no_hashtag')\n",
    "    train['tagged'] = train['text'].apply(lambda x: \" \".join([match.group(0)[1:] for match in re.finditer(r\"@\\w+\", x)]) or 'no_tagged')\n",
    "    train['link'] = train['text'].apply(lambda x:\" \".join([match.group(0)[:] for match in re.finditer(r\"https?://\\S+\", x)]) or 'no_link')\n",
    "    return train"
   ]
  },
  {
   "cell_type": "code",
   "execution_count": 75,
   "metadata": {},
   "outputs": [],
   "source": [
    "train = created_feature(train)\n",
    "test = created_feature(test)"
   ]
  },
  {
   "cell_type": "code",
   "execution_count": 76,
   "metadata": {
    "scrolled": false
   },
   "outputs": [
    {
     "data": {
      "text/html": [
       "<div>\n",
       "<style scoped>\n",
       "    .dataframe tbody tr th:only-of-type {\n",
       "        vertical-align: middle;\n",
       "    }\n",
       "\n",
       "    .dataframe tbody tr th {\n",
       "        vertical-align: top;\n",
       "    }\n",
       "\n",
       "    .dataframe thead th {\n",
       "        text-align: right;\n",
       "    }\n",
       "</style>\n",
       "<table border=\"1\" class=\"dataframe\">\n",
       "  <thead>\n",
       "    <tr style=\"text-align: right;\">\n",
       "      <th></th>\n",
       "      <th>id</th>\n",
       "      <th>keyword</th>\n",
       "      <th>location</th>\n",
       "      <th>text</th>\n",
       "      <th>target</th>\n",
       "      <th>hashtags</th>\n",
       "      <th>tagged</th>\n",
       "      <th>link</th>\n",
       "    </tr>\n",
       "  </thead>\n",
       "  <tbody>\n",
       "    <tr>\n",
       "      <th>31</th>\n",
       "      <td>48</td>\n",
       "      <td>ablaze</td>\n",
       "      <td>Birmingham</td>\n",
       "      <td>@bbcmtd Wholesale Markets ablaze http://t.co/l...</td>\n",
       "      <td>1</td>\n",
       "      <td>no_hashtag</td>\n",
       "      <td>bbcmtd</td>\n",
       "      <td>http://t.co/lHYXEOHY6C</td>\n",
       "    </tr>\n",
       "    <tr>\n",
       "      <th>32</th>\n",
       "      <td>49</td>\n",
       "      <td>ablaze</td>\n",
       "      <td>Est. September 2012 - Bristol</td>\n",
       "      <td>We always try to bring the heavy. #metal #RT h...</td>\n",
       "      <td>0</td>\n",
       "      <td>metal RT</td>\n",
       "      <td>no_tagged</td>\n",
       "      <td>http://t.co/YAo1e0xngw</td>\n",
       "    </tr>\n",
       "    <tr>\n",
       "      <th>33</th>\n",
       "      <td>50</td>\n",
       "      <td>ablaze</td>\n",
       "      <td>AFRICA</td>\n",
       "      <td>#AFRICANBAZE: Breaking news:Nigeria flag set a...</td>\n",
       "      <td>1</td>\n",
       "      <td>AFRICANBAZE</td>\n",
       "      <td>no_tagged</td>\n",
       "      <td>http://t.co/2nndBGwyEi</td>\n",
       "    </tr>\n",
       "    <tr>\n",
       "      <th>34</th>\n",
       "      <td>52</td>\n",
       "      <td>ablaze</td>\n",
       "      <td>Philadelphia, PA</td>\n",
       "      <td>Crying out for more! Set me ablaze</td>\n",
       "      <td>0</td>\n",
       "      <td>no_hashtag</td>\n",
       "      <td>no_tagged</td>\n",
       "      <td>no_link</td>\n",
       "    </tr>\n",
       "    <tr>\n",
       "      <th>35</th>\n",
       "      <td>53</td>\n",
       "      <td>ablaze</td>\n",
       "      <td>London, UK</td>\n",
       "      <td>On plus side LOOK AT THE SKY LAST NIGHT IT WAS...</td>\n",
       "      <td>0</td>\n",
       "      <td>no_hashtag</td>\n",
       "      <td>no_tagged</td>\n",
       "      <td>http://t.co/qqsmshaJ3N</td>\n",
       "    </tr>\n",
       "    <tr>\n",
       "      <th>...</th>\n",
       "      <td>...</td>\n",
       "      <td>...</td>\n",
       "      <td>...</td>\n",
       "      <td>...</td>\n",
       "      <td>...</td>\n",
       "      <td>...</td>\n",
       "      <td>...</td>\n",
       "      <td>...</td>\n",
       "    </tr>\n",
       "    <tr>\n",
       "      <th>7575</th>\n",
       "      <td>10826</td>\n",
       "      <td>wrecked</td>\n",
       "      <td>TN</td>\n",
       "      <td>On the bright side I wrecked http://t.co/uEa0t...</td>\n",
       "      <td>0</td>\n",
       "      <td>no_hashtag</td>\n",
       "      <td>no_tagged</td>\n",
       "      <td>http://t.co/uEa0txRHYs</td>\n",
       "    </tr>\n",
       "    <tr>\n",
       "      <th>7577</th>\n",
       "      <td>10829</td>\n",
       "      <td>wrecked</td>\n",
       "      <td>#NewcastleuponTyne #UK</td>\n",
       "      <td>@widda16 ... He's gone. You can relax. I thoug...</td>\n",
       "      <td>0</td>\n",
       "      <td>whoops</td>\n",
       "      <td>widda16</td>\n",
       "      <td>no_link</td>\n",
       "    </tr>\n",
       "    <tr>\n",
       "      <th>7579</th>\n",
       "      <td>10831</td>\n",
       "      <td>wrecked</td>\n",
       "      <td>Vancouver, Canada</td>\n",
       "      <td>Three days off from work and they've pretty mu...</td>\n",
       "      <td>0</td>\n",
       "      <td>no_hashtag</td>\n",
       "      <td>no_tagged</td>\n",
       "      <td>no_link</td>\n",
       "    </tr>\n",
       "    <tr>\n",
       "      <th>7580</th>\n",
       "      <td>10832</td>\n",
       "      <td>wrecked</td>\n",
       "      <td>London</td>\n",
       "      <td>#FX #forex #trading Cramer: Iger's 3 words tha...</td>\n",
       "      <td>0</td>\n",
       "      <td>FX forex trading</td>\n",
       "      <td>no_tagged</td>\n",
       "      <td>http://t.co/7enNulLKzM</td>\n",
       "    </tr>\n",
       "    <tr>\n",
       "      <th>7581</th>\n",
       "      <td>10833</td>\n",
       "      <td>wrecked</td>\n",
       "      <td>Lincoln</td>\n",
       "      <td>@engineshed Great atmosphere at the British Li...</td>\n",
       "      <td>0</td>\n",
       "      <td>no_hashtag</td>\n",
       "      <td>engineshed</td>\n",
       "      <td>http://t.co/oMNBAtJEAO</td>\n",
       "    </tr>\n",
       "  </tbody>\n",
       "</table>\n",
       "<p>5080 rows × 8 columns</p>\n",
       "</div>"
      ],
      "text/plain": [
       "         id  keyword                       location  \\\n",
       "31       48   ablaze                     Birmingham   \n",
       "32       49   ablaze  Est. September 2012 - Bristol   \n",
       "33       50   ablaze                         AFRICA   \n",
       "34       52   ablaze               Philadelphia, PA   \n",
       "35       53   ablaze                     London, UK   \n",
       "...     ...      ...                            ...   \n",
       "7575  10826  wrecked                             TN   \n",
       "7577  10829  wrecked         #NewcastleuponTyne #UK   \n",
       "7579  10831  wrecked              Vancouver, Canada   \n",
       "7580  10832  wrecked                        London    \n",
       "7581  10833  wrecked                        Lincoln   \n",
       "\n",
       "                                                   text  target  \\\n",
       "31    @bbcmtd Wholesale Markets ablaze http://t.co/l...       1   \n",
       "32    We always try to bring the heavy. #metal #RT h...       0   \n",
       "33    #AFRICANBAZE: Breaking news:Nigeria flag set a...       1   \n",
       "34                   Crying out for more! Set me ablaze       0   \n",
       "35    On plus side LOOK AT THE SKY LAST NIGHT IT WAS...       0   \n",
       "...                                                 ...     ...   \n",
       "7575  On the bright side I wrecked http://t.co/uEa0t...       0   \n",
       "7577  @widda16 ... He's gone. You can relax. I thoug...       0   \n",
       "7579  Three days off from work and they've pretty mu...       0   \n",
       "7580  #FX #forex #trading Cramer: Iger's 3 words tha...       0   \n",
       "7581  @engineshed Great atmosphere at the British Li...       0   \n",
       "\n",
       "              hashtags      tagged                    link  \n",
       "31          no_hashtag      bbcmtd  http://t.co/lHYXEOHY6C  \n",
       "32            metal RT   no_tagged  http://t.co/YAo1e0xngw  \n",
       "33         AFRICANBAZE   no_tagged  http://t.co/2nndBGwyEi  \n",
       "34          no_hashtag   no_tagged                 no_link  \n",
       "35          no_hashtag   no_tagged  http://t.co/qqsmshaJ3N  \n",
       "...                ...         ...                     ...  \n",
       "7575        no_hashtag   no_tagged  http://t.co/uEa0txRHYs  \n",
       "7577            whoops     widda16                 no_link  \n",
       "7579        no_hashtag   no_tagged                 no_link  \n",
       "7580  FX forex trading   no_tagged  http://t.co/7enNulLKzM  \n",
       "7581        no_hashtag  engineshed  http://t.co/oMNBAtJEAO  \n",
       "\n",
       "[5080 rows x 8 columns]"
      ]
     },
     "execution_count": 76,
     "metadata": {},
     "output_type": "execute_result"
    }
   ],
   "source": [
    "train"
   ]
  },
  {
   "cell_type": "markdown",
   "metadata": {
    "papermill": {
     "duration": 0.03972,
     "end_time": "2020-12-22T07:34:48.880204",
     "exception": false,
     "start_time": "2020-12-22T07:34:48.840484",
     "status": "completed"
    },
    "tags": []
   },
   "source": [
    "We can see links, tags and hashtags have been seperated in new columns. Similarly test data can be seen below"
   ]
  },
  {
   "cell_type": "code",
   "execution_count": 77,
   "metadata": {},
   "outputs": [
    {
     "data": {
      "text/html": [
       "<div>\n",
       "<style scoped>\n",
       "    .dataframe tbody tr th:only-of-type {\n",
       "        vertical-align: middle;\n",
       "    }\n",
       "\n",
       "    .dataframe tbody tr th {\n",
       "        vertical-align: top;\n",
       "    }\n",
       "\n",
       "    .dataframe thead th {\n",
       "        text-align: right;\n",
       "    }\n",
       "</style>\n",
       "<table border=\"1\" class=\"dataframe\">\n",
       "  <thead>\n",
       "    <tr style=\"text-align: right;\">\n",
       "      <th></th>\n",
       "      <th>id</th>\n",
       "      <th>keyword</th>\n",
       "      <th>location</th>\n",
       "      <th>text</th>\n",
       "      <th>hashtags</th>\n",
       "      <th>tagged</th>\n",
       "      <th>link</th>\n",
       "    </tr>\n",
       "  </thead>\n",
       "  <tbody>\n",
       "    <tr>\n",
       "      <th>15</th>\n",
       "      <td>46</td>\n",
       "      <td>ablaze</td>\n",
       "      <td>London</td>\n",
       "      <td>Birmingham Wholesale Market is ablaze BBC News...</td>\n",
       "      <td>no_hashtag</td>\n",
       "      <td>no_tagged</td>\n",
       "      <td>http://t.co/irWqCEZWEU</td>\n",
       "    </tr>\n",
       "    <tr>\n",
       "      <th>16</th>\n",
       "      <td>47</td>\n",
       "      <td>ablaze</td>\n",
       "      <td>Niall's place | SAF 12 SQUAD |</td>\n",
       "      <td>@sunkxssedharry will you wear shorts for race ...</td>\n",
       "      <td>no_hashtag</td>\n",
       "      <td>sunkxssedharry</td>\n",
       "      <td>no_link</td>\n",
       "    </tr>\n",
       "    <tr>\n",
       "      <th>17</th>\n",
       "      <td>51</td>\n",
       "      <td>ablaze</td>\n",
       "      <td>NIGERIA</td>\n",
       "      <td>#PreviouslyOnDoyinTv: Toke MakinwaÛªs marriag...</td>\n",
       "      <td>PreviouslyOnDoyinTv</td>\n",
       "      <td>no_tagged</td>\n",
       "      <td>http://t.co/CMghxBa2XI</td>\n",
       "    </tr>\n",
       "    <tr>\n",
       "      <th>18</th>\n",
       "      <td>58</td>\n",
       "      <td>ablaze</td>\n",
       "      <td>Live On Webcam</td>\n",
       "      <td>Check these out: http://t.co/rOI2NSmEJJ http:/...</td>\n",
       "      <td>nsfw</td>\n",
       "      <td>no_tagged</td>\n",
       "      <td>http://t.co/rOI2NSmEJJ http://t.co/3Tj8ZjiN21 ...</td>\n",
       "    </tr>\n",
       "    <tr>\n",
       "      <th>19</th>\n",
       "      <td>60</td>\n",
       "      <td>ablaze</td>\n",
       "      <td>Los Angeles, Califnordia</td>\n",
       "      <td>PSA: IÛªm splitting my personalities.\\n\\n?? t...</td>\n",
       "      <td>no_hashtag</td>\n",
       "      <td>ablaze_co ablaze</td>\n",
       "      <td>no_link</td>\n",
       "    </tr>\n",
       "    <tr>\n",
       "      <th>...</th>\n",
       "      <td>...</td>\n",
       "      <td>...</td>\n",
       "      <td>...</td>\n",
       "      <td>...</td>\n",
       "      <td>...</td>\n",
       "      <td>...</td>\n",
       "      <td>...</td>\n",
       "    </tr>\n",
       "    <tr>\n",
       "      <th>3246</th>\n",
       "      <td>10804</td>\n",
       "      <td>wrecked</td>\n",
       "      <td>Love Reiss</td>\n",
       "      <td>@yakubOObs think he deactivated because his no...</td>\n",
       "      <td>no_hashtag</td>\n",
       "      <td>yakubOObs</td>\n",
       "      <td>no_link</td>\n",
       "    </tr>\n",
       "    <tr>\n",
       "      <th>3247</th>\n",
       "      <td>10806</td>\n",
       "      <td>wrecked</td>\n",
       "      <td>Seattle Washington</td>\n",
       "      <td>RT CNBC '3 words from Disney CEO Bob Iger wrec...</td>\n",
       "      <td>no_hashtag</td>\n",
       "      <td>no_tagged</td>\n",
       "      <td>http://t.co/f0texKsqhL http://t.co/ilySLaTMgI'</td>\n",
       "    </tr>\n",
       "    <tr>\n",
       "      <th>3248</th>\n",
       "      <td>10807</td>\n",
       "      <td>wrecked</td>\n",
       "      <td>Acey mountain islanddåÇTorontoåÈ</td>\n",
       "      <td>Smackdown tyme this should put me in a good mo...</td>\n",
       "      <td>no_hashtag</td>\n",
       "      <td>no_tagged</td>\n",
       "      <td>no_link</td>\n",
       "    </tr>\n",
       "    <tr>\n",
       "      <th>3249</th>\n",
       "      <td>10816</td>\n",
       "      <td>wrecked</td>\n",
       "      <td>los angeles</td>\n",
       "      <td>@thrillhho jsyk I haven't stopped thinking abt...</td>\n",
       "      <td>no_hashtag</td>\n",
       "      <td>thrillhho</td>\n",
       "      <td>no_link</td>\n",
       "    </tr>\n",
       "    <tr>\n",
       "      <th>3250</th>\n",
       "      <td>10820</td>\n",
       "      <td>wrecked</td>\n",
       "      <td>Brussels, Belgium</td>\n",
       "      <td>@stighefootball Begovic has been garbage. He g...</td>\n",
       "      <td>no_hashtag</td>\n",
       "      <td>stighefootball</td>\n",
       "      <td>no_link</td>\n",
       "    </tr>\n",
       "  </tbody>\n",
       "</table>\n",
       "<p>2158 rows × 7 columns</p>\n",
       "</div>"
      ],
      "text/plain": [
       "         id  keyword                          location  \\\n",
       "15       46   ablaze                            London   \n",
       "16       47   ablaze    Niall's place | SAF 12 SQUAD |   \n",
       "17       51   ablaze                           NIGERIA   \n",
       "18       58   ablaze                    Live On Webcam   \n",
       "19       60   ablaze          Los Angeles, Califnordia   \n",
       "...     ...      ...                               ...   \n",
       "3246  10804  wrecked                        Love Reiss   \n",
       "3247  10806  wrecked                Seattle Washington   \n",
       "3248  10807  wrecked  Acey mountain islanddåÇTorontoåÈ   \n",
       "3249  10816  wrecked                       los angeles   \n",
       "3250  10820  wrecked                 Brussels, Belgium   \n",
       "\n",
       "                                                   text             hashtags  \\\n",
       "15    Birmingham Wholesale Market is ablaze BBC News...           no_hashtag   \n",
       "16    @sunkxssedharry will you wear shorts for race ...           no_hashtag   \n",
       "17    #PreviouslyOnDoyinTv: Toke MakinwaÛªs marriag...  PreviouslyOnDoyinTv   \n",
       "18    Check these out: http://t.co/rOI2NSmEJJ http:/...                 nsfw   \n",
       "19    PSA: IÛªm splitting my personalities.\\n\\n?? t...           no_hashtag   \n",
       "...                                                 ...                  ...   \n",
       "3246  @yakubOObs think he deactivated because his no...           no_hashtag   \n",
       "3247  RT CNBC '3 words from Disney CEO Bob Iger wrec...           no_hashtag   \n",
       "3248  Smackdown tyme this should put me in a good mo...           no_hashtag   \n",
       "3249  @thrillhho jsyk I haven't stopped thinking abt...           no_hashtag   \n",
       "3250  @stighefootball Begovic has been garbage. He g...           no_hashtag   \n",
       "\n",
       "                tagged                                               link  \n",
       "15           no_tagged                             http://t.co/irWqCEZWEU  \n",
       "16      sunkxssedharry                                            no_link  \n",
       "17           no_tagged                             http://t.co/CMghxBa2XI  \n",
       "18           no_tagged  http://t.co/rOI2NSmEJJ http://t.co/3Tj8ZjiN21 ...  \n",
       "19    ablaze_co ablaze                                            no_link  \n",
       "...                ...                                                ...  \n",
       "3246         yakubOObs                                            no_link  \n",
       "3247         no_tagged     http://t.co/f0texKsqhL http://t.co/ilySLaTMgI'  \n",
       "3248         no_tagged                                            no_link  \n",
       "3249         thrillhho                                            no_link  \n",
       "3250    stighefootball                                            no_link  \n",
       "\n",
       "[2158 rows x 7 columns]"
      ]
     },
     "execution_count": 77,
     "metadata": {},
     "output_type": "execute_result"
    }
   ],
   "source": [
    "test"
   ]
  },
  {
   "cell_type": "code",
   "execution_count": 78,
   "metadata": {},
   "outputs": [
    {
     "data": {
      "text/plain": [
       "no_hashtag                              3847\n",
       "hot prebreak best                         25\n",
       "GBBO                                      10\n",
       "WX                                         7\n",
       "Bestnaijamade                              6\n",
       "News                                       6\n",
       "Dubstep TrapMusic DnB EDM Dance Ices       6\n",
       "okwx                                       6\n",
       "Name: hashtags, dtype: int64"
      ]
     },
     "execution_count": 78,
     "metadata": {},
     "output_type": "execute_result"
    }
   ],
   "source": [
    "train['hashtags'].value_counts().sort_values(ascending=False).iloc[0:8]"
   ]
  },
  {
   "cell_type": "code",
   "execution_count": 79,
   "metadata": {},
   "outputs": [
    {
     "data": {
      "text/plain": [
       "no_link                                                                                        2364\n",
       "http://t.co/KSAwlYuX02                                                                            6\n",
       "http://t.co/cybKsXHF7d                                                                            5\n",
       "https://t.co/moLL5vd8yD                                                                           4\n",
       "https://t.co/rqWuoy1fm4                                                                           4\n",
       "http://t.co/cEdCUgEuWs                                                                            3\n",
       "http://t.co/0wrATkA2jL                                                                            3\n",
       "http://t.co/BbDpnj8XSx                                                                            3\n",
       "http://t.co/LwwoJXtTIV                                                                            2\n",
       "http://t.co/rOI2NSmEJJ http://t.co/3Tj8ZjiN21 http://t.co/YDUiXEfIpE http://t.co/LxTjc87KLS       2\n",
       "Name: link, dtype: int64"
      ]
     },
     "execution_count": 79,
     "metadata": {},
     "output_type": "execute_result"
    }
   ],
   "source": [
    "train['link'].value_counts().sort_values(ascending=False).iloc[0:10]"
   ]
  },
  {
   "cell_type": "markdown",
   "metadata": {
    "papermill": {
     "duration": 0.03972,
     "end_time": "2020-12-22T07:34:48.880204",
     "exception": false,
     "start_time": "2020-12-22T07:34:48.840484",
     "status": "completed"
    },
    "tags": []
   },
   "source": [
    "Now we will clean the links and remove breaks from tweets"
   ]
  },
  {
   "cell_type": "code",
   "execution_count": 80,
   "metadata": {},
   "outputs": [],
   "source": [
    "def clean_text(text):\n",
    "    text = re.sub(r'https?://\\S+', '', text) # remove links\n",
    "    text = re.sub(r'\\n',' ', text) #  remove breaks\n",
    "    text = re.sub('\\s+', ' ', text).strip() \n",
    "    return text"
   ]
  },
  {
   "cell_type": "markdown",
   "metadata": {
    "papermill": {
     "duration": 0.03972,
     "end_time": "2020-12-22T07:34:48.880204",
     "exception": false,
     "start_time": "2020-12-22T07:34:48.840484",
     "status": "completed"
    },
    "tags": []
   },
   "source": [
    "Tweet text at 417 row is shown below and as we can see there is a hyperlink in this tweet"
   ]
  },
  {
   "cell_type": "code",
   "execution_count": 81,
   "metadata": {},
   "outputs": [
    {
     "data": {
      "text/plain": [
       "'Arson suspect linked to 30 fires caught in Northern California http://t.co/mmGsyAHDzb'"
      ]
     },
     "execution_count": 81,
     "metadata": {},
     "output_type": "execute_result"
    }
   ],
   "source": [
    "train['text'][417]"
   ]
  },
  {
   "cell_type": "markdown",
   "metadata": {
    "papermill": {
     "duration": 0.03972,
     "end_time": "2020-12-22T07:34:48.880204",
     "exception": false,
     "start_time": "2020-12-22T07:34:48.840484",
     "status": "completed"
    },
    "tags": []
   },
   "source": [
    "Now we will clean this hyperlink"
   ]
  },
  {
   "cell_type": "code",
   "execution_count": 82,
   "metadata": {},
   "outputs": [
    {
     "data": {
      "text/plain": [
       "'Arson suspect linked to 30 fires caught in Northern California'"
      ]
     },
     "execution_count": 82,
     "metadata": {},
     "output_type": "execute_result"
    }
   ],
   "source": [
    "clean_text(train['text'][417])"
   ]
  },
  {
   "cell_type": "markdown",
   "metadata": {
    "papermill": {
     "duration": 0.03972,
     "end_time": "2020-12-22T07:34:48.880204",
     "exception": false,
     "start_time": "2020-12-22T07:34:48.840484",
     "status": "completed"
    },
    "tags": []
   },
   "source": [
    "Now we will apply this cleaning in all data by using lambda"
   ]
  },
  {
   "cell_type": "code",
   "execution_count": 83,
   "metadata": {},
   "outputs": [],
   "source": [
    "train['text'] = train['text'].apply(lambda x: clean_text(x))\n",
    "test['text'] = test['text'].apply(lambda x: clean_text(x))"
   ]
  },
  {
   "cell_type": "code",
   "execution_count": 84,
   "metadata": {},
   "outputs": [
    {
     "data": {
      "text/html": [
       "<div>\n",
       "<style scoped>\n",
       "    .dataframe tbody tr th:only-of-type {\n",
       "        vertical-align: middle;\n",
       "    }\n",
       "\n",
       "    .dataframe tbody tr th {\n",
       "        vertical-align: top;\n",
       "    }\n",
       "\n",
       "    .dataframe thead th {\n",
       "        text-align: right;\n",
       "    }\n",
       "</style>\n",
       "<table border=\"1\" class=\"dataframe\">\n",
       "  <thead>\n",
       "    <tr style=\"text-align: right;\">\n",
       "      <th></th>\n",
       "      <th>id</th>\n",
       "      <th>keyword</th>\n",
       "      <th>location</th>\n",
       "      <th>text</th>\n",
       "      <th>target</th>\n",
       "      <th>hashtags</th>\n",
       "      <th>tagged</th>\n",
       "      <th>link</th>\n",
       "    </tr>\n",
       "  </thead>\n",
       "  <tbody>\n",
       "    <tr>\n",
       "      <th>31</th>\n",
       "      <td>48</td>\n",
       "      <td>ablaze</td>\n",
       "      <td>Birmingham</td>\n",
       "      <td>@bbcmtd Wholesale Markets ablaze</td>\n",
       "      <td>1</td>\n",
       "      <td>no_hashtag</td>\n",
       "      <td>bbcmtd</td>\n",
       "      <td>http://t.co/lHYXEOHY6C</td>\n",
       "    </tr>\n",
       "    <tr>\n",
       "      <th>32</th>\n",
       "      <td>49</td>\n",
       "      <td>ablaze</td>\n",
       "      <td>Est. September 2012 - Bristol</td>\n",
       "      <td>We always try to bring the heavy. #metal #RT</td>\n",
       "      <td>0</td>\n",
       "      <td>metal RT</td>\n",
       "      <td>no_tagged</td>\n",
       "      <td>http://t.co/YAo1e0xngw</td>\n",
       "    </tr>\n",
       "    <tr>\n",
       "      <th>33</th>\n",
       "      <td>50</td>\n",
       "      <td>ablaze</td>\n",
       "      <td>AFRICA</td>\n",
       "      <td>#AFRICANBAZE: Breaking news:Nigeria flag set a...</td>\n",
       "      <td>1</td>\n",
       "      <td>AFRICANBAZE</td>\n",
       "      <td>no_tagged</td>\n",
       "      <td>http://t.co/2nndBGwyEi</td>\n",
       "    </tr>\n",
       "    <tr>\n",
       "      <th>34</th>\n",
       "      <td>52</td>\n",
       "      <td>ablaze</td>\n",
       "      <td>Philadelphia, PA</td>\n",
       "      <td>Crying out for more! Set me ablaze</td>\n",
       "      <td>0</td>\n",
       "      <td>no_hashtag</td>\n",
       "      <td>no_tagged</td>\n",
       "      <td>no_link</td>\n",
       "    </tr>\n",
       "    <tr>\n",
       "      <th>35</th>\n",
       "      <td>53</td>\n",
       "      <td>ablaze</td>\n",
       "      <td>London, UK</td>\n",
       "      <td>On plus side LOOK AT THE SKY LAST NIGHT IT WAS...</td>\n",
       "      <td>0</td>\n",
       "      <td>no_hashtag</td>\n",
       "      <td>no_tagged</td>\n",
       "      <td>http://t.co/qqsmshaJ3N</td>\n",
       "    </tr>\n",
       "  </tbody>\n",
       "</table>\n",
       "</div>"
      ],
      "text/plain": [
       "    id keyword                       location  \\\n",
       "31  48  ablaze                     Birmingham   \n",
       "32  49  ablaze  Est. September 2012 - Bristol   \n",
       "33  50  ablaze                         AFRICA   \n",
       "34  52  ablaze               Philadelphia, PA   \n",
       "35  53  ablaze                     London, UK   \n",
       "\n",
       "                                                 text  target     hashtags  \\\n",
       "31                   @bbcmtd Wholesale Markets ablaze       1   no_hashtag   \n",
       "32       We always try to bring the heavy. #metal #RT       0     metal RT   \n",
       "33  #AFRICANBAZE: Breaking news:Nigeria flag set a...       1  AFRICANBAZE   \n",
       "34                 Crying out for more! Set me ablaze       0   no_hashtag   \n",
       "35  On plus side LOOK AT THE SKY LAST NIGHT IT WAS...       0   no_hashtag   \n",
       "\n",
       "       tagged                    link  \n",
       "31     bbcmtd  http://t.co/lHYXEOHY6C  \n",
       "32  no_tagged  http://t.co/YAo1e0xngw  \n",
       "33  no_tagged  http://t.co/2nndBGwyEi  \n",
       "34  no_tagged                 no_link  \n",
       "35  no_tagged  http://t.co/qqsmshaJ3N  "
      ]
     },
     "execution_count": 84,
     "metadata": {},
     "output_type": "execute_result"
    }
   ],
   "source": [
    "train.head()"
   ]
  },
  {
   "cell_type": "markdown",
   "metadata": {
    "papermill": {
     "duration": 0.03972,
     "end_time": "2020-12-22T07:34:48.880204",
     "exception": false,
     "start_time": "2020-12-22T07:34:48.840484",
     "status": "completed"
    },
    "tags": []
   },
   "source": [
    "As we can see from above results data have been cleaned from hyperlinks."
   ]
  },
  {
   "cell_type": "markdown",
   "metadata": {
    "papermill": {
     "duration": 0.03972,
     "end_time": "2020-12-22T07:34:48.880204",
     "exception": false,
     "start_time": "2020-12-22T07:34:48.840484",
     "status": "completed"
    },
    "tags": []
   },
   "source": [
    "                                             Convert Text To Lowercase form\n",
    "We will convert all tweets of both test and train data into lower form in order to prevent any ambiguity and for accurate analysis.\n"
   ]
  },
  {
   "cell_type": "code",
   "execution_count": 85,
   "metadata": {
    "execution": {
     "iopub.execute_input": "2020-12-22T07:34:48.962651Z",
     "iopub.status.busy": "2020-12-22T07:34:48.961936Z",
     "iopub.status.idle": "2020-12-22T07:34:49.079857Z",
     "shell.execute_reply": "2020-12-22T07:34:49.080610Z"
    },
    "papermill": {
     "duration": 0.160969,
     "end_time": "2020-12-22T07:34:49.080768",
     "exception": false,
     "start_time": "2020-12-22T07:34:48.919799",
     "status": "completed"
    },
    "scrolled": false,
    "tags": []
   },
   "outputs": [
    {
     "data": {
      "text/html": [
       "<div>\n",
       "<style scoped>\n",
       "    .dataframe tbody tr th:only-of-type {\n",
       "        vertical-align: middle;\n",
       "    }\n",
       "\n",
       "    .dataframe tbody tr th {\n",
       "        vertical-align: top;\n",
       "    }\n",
       "\n",
       "    .dataframe thead th {\n",
       "        text-align: right;\n",
       "    }\n",
       "</style>\n",
       "<table border=\"1\" class=\"dataframe\">\n",
       "  <thead>\n",
       "    <tr style=\"text-align: right;\">\n",
       "      <th></th>\n",
       "      <th>id</th>\n",
       "      <th>keyword</th>\n",
       "      <th>location</th>\n",
       "      <th>text</th>\n",
       "      <th>target</th>\n",
       "      <th>hashtags</th>\n",
       "      <th>tagged</th>\n",
       "      <th>link</th>\n",
       "    </tr>\n",
       "  </thead>\n",
       "  <tbody>\n",
       "    <tr>\n",
       "      <th>31</th>\n",
       "      <td>48</td>\n",
       "      <td>ablaze</td>\n",
       "      <td>Birmingham</td>\n",
       "      <td>bbcmtd wholesale markets ablaze</td>\n",
       "      <td>1</td>\n",
       "      <td>no_hashtag</td>\n",
       "      <td>bbcmtd</td>\n",
       "      <td>http://t.co/lHYXEOHY6C</td>\n",
       "    </tr>\n",
       "    <tr>\n",
       "      <th>32</th>\n",
       "      <td>49</td>\n",
       "      <td>ablaze</td>\n",
       "      <td>Est. September 2012 - Bristol</td>\n",
       "      <td>we always try to bring the heavy   metal  rt</td>\n",
       "      <td>0</td>\n",
       "      <td>metal RT</td>\n",
       "      <td>no_tagged</td>\n",
       "      <td>http://t.co/YAo1e0xngw</td>\n",
       "    </tr>\n",
       "    <tr>\n",
       "      <th>33</th>\n",
       "      <td>50</td>\n",
       "      <td>ablaze</td>\n",
       "      <td>AFRICA</td>\n",
       "      <td>africanbaze  breaking news nigeria flag set a...</td>\n",
       "      <td>1</td>\n",
       "      <td>AFRICANBAZE</td>\n",
       "      <td>no_tagged</td>\n",
       "      <td>http://t.co/2nndBGwyEi</td>\n",
       "    </tr>\n",
       "    <tr>\n",
       "      <th>34</th>\n",
       "      <td>52</td>\n",
       "      <td>ablaze</td>\n",
       "      <td>Philadelphia, PA</td>\n",
       "      <td>crying out for more  set me ablaze</td>\n",
       "      <td>0</td>\n",
       "      <td>no_hashtag</td>\n",
       "      <td>no_tagged</td>\n",
       "      <td>no_link</td>\n",
       "    </tr>\n",
       "    <tr>\n",
       "      <th>35</th>\n",
       "      <td>53</td>\n",
       "      <td>ablaze</td>\n",
       "      <td>London, UK</td>\n",
       "      <td>on plus side look at the sky last night it was...</td>\n",
       "      <td>0</td>\n",
       "      <td>no_hashtag</td>\n",
       "      <td>no_tagged</td>\n",
       "      <td>http://t.co/qqsmshaJ3N</td>\n",
       "    </tr>\n",
       "  </tbody>\n",
       "</table>\n",
       "</div>"
      ],
      "text/plain": [
       "    id keyword                       location  \\\n",
       "31  48  ablaze                     Birmingham   \n",
       "32  49  ablaze  Est. September 2012 - Bristol   \n",
       "33  50  ablaze                         AFRICA   \n",
       "34  52  ablaze               Philadelphia, PA   \n",
       "35  53  ablaze                     London, UK   \n",
       "\n",
       "                                                 text  target     hashtags  \\\n",
       "31                    bbcmtd wholesale markets ablaze       1   no_hashtag   \n",
       "32       we always try to bring the heavy   metal  rt       0     metal RT   \n",
       "33   africanbaze  breaking news nigeria flag set a...       1  AFRICANBAZE   \n",
       "34                 crying out for more  set me ablaze       0   no_hashtag   \n",
       "35  on plus side look at the sky last night it was...       0   no_hashtag   \n",
       "\n",
       "       tagged                    link  \n",
       "31     bbcmtd  http://t.co/lHYXEOHY6C  \n",
       "32  no_tagged  http://t.co/YAo1e0xngw  \n",
       "33  no_tagged  http://t.co/2nndBGwyEi  \n",
       "34  no_tagged                 no_link  \n",
       "35  no_tagged  http://t.co/qqsmshaJ3N  "
      ]
     },
     "execution_count": 85,
     "metadata": {},
     "output_type": "execute_result"
    }
   ],
   "source": [
    "\n",
    "train['text'] = [re.sub(\"[^a-zA-Z]\",\" \",text).lower() for text in train['text']]\n",
    "\n",
    "\n",
    "train.head()"
   ]
  },
  {
   "cell_type": "code",
   "execution_count": 86,
   "metadata": {
    "execution": {
     "iopub.execute_input": "2020-12-22T07:34:49.165588Z",
     "iopub.status.busy": "2020-12-22T07:34:49.164814Z",
     "iopub.status.idle": "2020-12-22T07:34:49.175681Z",
     "shell.execute_reply": "2020-12-22T07:34:49.176291Z"
    },
    "papermill": {
     "duration": 0.054152,
     "end_time": "2020-12-22T07:34:49.176441",
     "exception": false,
     "start_time": "2020-12-22T07:34:49.122289",
     "status": "completed"
    },
    "scrolled": false,
    "tags": []
   },
   "outputs": [
    {
     "data": {
      "text/html": [
       "<div>\n",
       "<style scoped>\n",
       "    .dataframe tbody tr th:only-of-type {\n",
       "        vertical-align: middle;\n",
       "    }\n",
       "\n",
       "    .dataframe tbody tr th {\n",
       "        vertical-align: top;\n",
       "    }\n",
       "\n",
       "    .dataframe thead th {\n",
       "        text-align: right;\n",
       "    }\n",
       "</style>\n",
       "<table border=\"1\" class=\"dataframe\">\n",
       "  <thead>\n",
       "    <tr style=\"text-align: right;\">\n",
       "      <th></th>\n",
       "      <th>id</th>\n",
       "      <th>keyword</th>\n",
       "      <th>location</th>\n",
       "      <th>text</th>\n",
       "      <th>hashtags</th>\n",
       "      <th>tagged</th>\n",
       "      <th>link</th>\n",
       "    </tr>\n",
       "  </thead>\n",
       "  <tbody>\n",
       "    <tr>\n",
       "      <th>15</th>\n",
       "      <td>46</td>\n",
       "      <td>ablaze</td>\n",
       "      <td>London</td>\n",
       "      <td>birmingham wholesale market is ablaze bbc news...</td>\n",
       "      <td>no_hashtag</td>\n",
       "      <td>no_tagged</td>\n",
       "      <td>http://t.co/irWqCEZWEU</td>\n",
       "    </tr>\n",
       "    <tr>\n",
       "      <th>16</th>\n",
       "      <td>47</td>\n",
       "      <td>ablaze</td>\n",
       "      <td>Niall's place | SAF 12 SQUAD |</td>\n",
       "      <td>sunkxssedharry will you wear shorts for race ...</td>\n",
       "      <td>no_hashtag</td>\n",
       "      <td>sunkxssedharry</td>\n",
       "      <td>no_link</td>\n",
       "    </tr>\n",
       "    <tr>\n",
       "      <th>17</th>\n",
       "      <td>51</td>\n",
       "      <td>ablaze</td>\n",
       "      <td>NIGERIA</td>\n",
       "      <td>previouslyondoyintv  toke makinwa   s marriag...</td>\n",
       "      <td>PreviouslyOnDoyinTv</td>\n",
       "      <td>no_tagged</td>\n",
       "      <td>http://t.co/CMghxBa2XI</td>\n",
       "    </tr>\n",
       "    <tr>\n",
       "      <th>18</th>\n",
       "      <td>58</td>\n",
       "      <td>ablaze</td>\n",
       "      <td>Live On Webcam</td>\n",
       "      <td>check these out   nsfw</td>\n",
       "      <td>nsfw</td>\n",
       "      <td>no_tagged</td>\n",
       "      <td>http://t.co/rOI2NSmEJJ http://t.co/3Tj8ZjiN21 ...</td>\n",
       "    </tr>\n",
       "    <tr>\n",
       "      <th>19</th>\n",
       "      <td>60</td>\n",
       "      <td>ablaze</td>\n",
       "      <td>Los Angeles, Califnordia</td>\n",
       "      <td>psa  i   m splitting my personalities     tech...</td>\n",
       "      <td>no_hashtag</td>\n",
       "      <td>ablaze_co ablaze</td>\n",
       "      <td>no_link</td>\n",
       "    </tr>\n",
       "  </tbody>\n",
       "</table>\n",
       "</div>"
      ],
      "text/plain": [
       "    id keyword                        location  \\\n",
       "15  46  ablaze                          London   \n",
       "16  47  ablaze  Niall's place | SAF 12 SQUAD |   \n",
       "17  51  ablaze                         NIGERIA   \n",
       "18  58  ablaze                  Live On Webcam   \n",
       "19  60  ablaze        Los Angeles, Califnordia   \n",
       "\n",
       "                                                 text             hashtags  \\\n",
       "15  birmingham wholesale market is ablaze bbc news...           no_hashtag   \n",
       "16   sunkxssedharry will you wear shorts for race ...           no_hashtag   \n",
       "17   previouslyondoyintv  toke makinwa   s marriag...  PreviouslyOnDoyinTv   \n",
       "18                             check these out   nsfw                 nsfw   \n",
       "19  psa  i   m splitting my personalities     tech...           no_hashtag   \n",
       "\n",
       "              tagged                                               link  \n",
       "15         no_tagged                             http://t.co/irWqCEZWEU  \n",
       "16    sunkxssedharry                                            no_link  \n",
       "17         no_tagged                             http://t.co/CMghxBa2XI  \n",
       "18         no_tagged  http://t.co/rOI2NSmEJJ http://t.co/3Tj8ZjiN21 ...  \n",
       "19  ablaze_co ablaze                                            no_link  "
      ]
     },
     "execution_count": 86,
     "metadata": {},
     "output_type": "execute_result"
    }
   ],
   "source": [
    "test['text'] = [re.sub(\"[^a-zA-Z]\",\" \",text).lower() for text in test['text']]\n",
    "test.head()"
   ]
  },
  {
   "cell_type": "markdown",
   "metadata": {},
   "source": [
    "As hahtags tagged and link columns are not needed now so we will remove it from training and testing data"
   ]
  },
  {
   "cell_type": "code",
   "execution_count": 87,
   "metadata": {},
   "outputs": [],
   "source": [
    "train.drop(['hashtags', 'tagged'], axis=1, inplace=True)"
   ]
  },
  {
   "cell_type": "code",
   "execution_count": 88,
   "metadata": {},
   "outputs": [],
   "source": [
    "train.drop(['link'], axis=1, inplace=True)"
   ]
  },
  {
   "cell_type": "code",
   "execution_count": 90,
   "metadata": {},
   "outputs": [],
   "source": [
    "test.drop(['hashtags', 'tagged'], axis=1, inplace=True)"
   ]
  },
  {
   "cell_type": "code",
   "execution_count": 91,
   "metadata": {},
   "outputs": [],
   "source": [
    "test.drop(['link'], axis=1, inplace=True)"
   ]
  },
  {
   "cell_type": "markdown",
   "metadata": {
    "papermill": {
     "duration": 0.03972,
     "end_time": "2020-12-22T07:34:48.880204",
     "exception": false,
     "start_time": "2020-12-22T07:34:48.840484",
     "status": "completed"
    },
    "tags": []
   },
   "source": [
    "From above results we can see that all hyperlinks, tags, hashtags and special characters have been removed from tweets. "
   ]
  },
  {
   "cell_type": "markdown",
   "metadata": {
    "papermill": {
     "duration": 0.040116,
     "end_time": "2020-12-22T07:34:49.257245",
     "exception": false,
     "start_time": "2020-12-22T07:34:49.217129",
     "status": "completed"
    },
    "tags": []
   },
   "source": [
    "\n",
    "## 2.2.Feature Extraction\n",
    "                                     Identify Positive, Negative and neutral Tweets\n",
    "- We will use textblob library which is helpful in identifing features  like we are intrested in identifying polarity whether the tweets are positive, negative or neutral, it will help us in identifying that.\n",
    "- We will be using sentiment feature of textblob which is helpful in identifying whether the statement is positive or negative. polarity lies between [1,-1] if it is more towards 1 it will be positive tweet, if it will be more towards zero, it will be a negative tweet."
   ]
  },
  {
   "cell_type": "code",
   "execution_count": 92,
   "metadata": {},
   "outputs": [],
   "source": [
    "from textblob import TextBlob\n"
   ]
  },
  {
   "cell_type": "code",
   "execution_count": 102,
   "metadata": {
    "execution": {
     "iopub.execute_input": "2020-12-22T07:34:49.341698Z",
     "iopub.status.busy": "2020-12-22T07:34:49.341043Z",
     "iopub.status.idle": "2020-12-22T07:34:52.341128Z",
     "shell.execute_reply": "2020-12-22T07:34:52.342071Z"
    },
    "papermill": {
     "duration": 3.044624,
     "end_time": "2020-12-22T07:34:52.342234",
     "exception": false,
     "start_time": "2020-12-22T07:34:49.297610",
     "status": "completed"
    },
    "tags": []
   },
   "outputs": [],
   "source": [
    "\n",
    "def polarity_check_label(dataframe):\n",
    "    polarity_list = []\n",
    "    \n",
    "    for text in dataframe['text']:\n",
    "        polarity_point = TextBlob(text).sentiment.polarity\n",
    "        if polarity_point < 0 : polarity_state= 'Negative'\n",
    "        elif polarity_point == 0 : polarity_state = 'Neutral'\n",
    "        else : polarity_state = 'Positive'\n",
    "        polarity_list.append(polarity_state)\n",
    "        \n",
    "    dataframe['polarity_state'] = polarity_list\n",
    "    \n",
    "polarity_check_label(train)\n",
    "polarity_check_label(test)"
   ]
  },
  {
   "cell_type": "code",
   "execution_count": 103,
   "metadata": {
    "execution": {
     "iopub.execute_input": "2020-12-22T07:34:52.448333Z",
     "iopub.status.busy": "2020-12-22T07:34:52.447580Z",
     "iopub.status.idle": "2020-12-22T07:34:52.452048Z",
     "shell.execute_reply": "2020-12-22T07:34:52.452576Z"
    },
    "papermill": {
     "duration": 0.069244,
     "end_time": "2020-12-22T07:34:52.452738",
     "exception": false,
     "start_time": "2020-12-22T07:34:52.383494",
     "status": "completed"
    },
    "tags": []
   },
   "outputs": [
    {
     "data": {
      "text/html": [
       "<div>\n",
       "<style scoped>\n",
       "    .dataframe tbody tr th:only-of-type {\n",
       "        vertical-align: middle;\n",
       "    }\n",
       "\n",
       "    .dataframe tbody tr th {\n",
       "        vertical-align: top;\n",
       "    }\n",
       "\n",
       "    .dataframe thead th {\n",
       "        text-align: right;\n",
       "    }\n",
       "</style>\n",
       "<table border=\"1\" class=\"dataframe\">\n",
       "  <thead>\n",
       "    <tr style=\"text-align: right;\">\n",
       "      <th></th>\n",
       "      <th>id</th>\n",
       "      <th>keyword</th>\n",
       "      <th>location</th>\n",
       "      <th>text</th>\n",
       "      <th>target</th>\n",
       "      <th>polarity_state</th>\n",
       "    </tr>\n",
       "  </thead>\n",
       "  <tbody>\n",
       "    <tr>\n",
       "      <th>31</th>\n",
       "      <td>48</td>\n",
       "      <td>ablaze</td>\n",
       "      <td>Birmingham</td>\n",
       "      <td>bbcmtd wholesale market ablaze</td>\n",
       "      <td>1</td>\n",
       "      <td>Neutral</td>\n",
       "    </tr>\n",
       "    <tr>\n",
       "      <th>32</th>\n",
       "      <td>49</td>\n",
       "      <td>ablaze</td>\n",
       "      <td>Est. September 2012 - Bristol</td>\n",
       "      <td>always try bring heavy metal rt</td>\n",
       "      <td>0</td>\n",
       "      <td>Negative</td>\n",
       "    </tr>\n",
       "    <tr>\n",
       "      <th>33</th>\n",
       "      <td>50</td>\n",
       "      <td>ablaze</td>\n",
       "      <td>AFRICA</td>\n",
       "      <td>africanbaze breaking news nigeria flag set abl...</td>\n",
       "      <td>1</td>\n",
       "      <td>Neutral</td>\n",
       "    </tr>\n",
       "    <tr>\n",
       "      <th>34</th>\n",
       "      <td>52</td>\n",
       "      <td>ablaze</td>\n",
       "      <td>Philadelphia, PA</td>\n",
       "      <td>cry set ablaze</td>\n",
       "      <td>0</td>\n",
       "      <td>Neutral</td>\n",
       "    </tr>\n",
       "    <tr>\n",
       "      <th>35</th>\n",
       "      <td>53</td>\n",
       "      <td>ablaze</td>\n",
       "      <td>London, UK</td>\n",
       "      <td>plus side look sky last night ablaze</td>\n",
       "      <td>0</td>\n",
       "      <td>Neutral</td>\n",
       "    </tr>\n",
       "  </tbody>\n",
       "</table>\n",
       "</div>"
      ],
      "text/plain": [
       "    id keyword                       location  \\\n",
       "31  48  ablaze                     Birmingham   \n",
       "32  49  ablaze  Est. September 2012 - Bristol   \n",
       "33  50  ablaze                         AFRICA   \n",
       "34  52  ablaze               Philadelphia, PA   \n",
       "35  53  ablaze                     London, UK   \n",
       "\n",
       "                                                 text  target polarity_state  \n",
       "31                     bbcmtd wholesale market ablaze       1        Neutral  \n",
       "32                    always try bring heavy metal rt       0       Negative  \n",
       "33  africanbaze breaking news nigeria flag set abl...       1        Neutral  \n",
       "34                                     cry set ablaze       0        Neutral  \n",
       "35               plus side look sky last night ablaze       0        Neutral  "
      ]
     },
     "execution_count": 103,
     "metadata": {},
     "output_type": "execute_result"
    }
   ],
   "source": [
    "train.head()"
   ]
  },
  {
   "cell_type": "code",
   "execution_count": 104,
   "metadata": {
    "execution": {
     "iopub.execute_input": "2020-12-22T07:34:52.543464Z",
     "iopub.status.busy": "2020-12-22T07:34:52.542818Z",
     "iopub.status.idle": "2020-12-22T07:34:52.554690Z",
     "shell.execute_reply": "2020-12-22T07:34:52.555242Z"
    },
    "papermill": {
     "duration": 0.058795,
     "end_time": "2020-12-22T07:34:52.555424",
     "exception": false,
     "start_time": "2020-12-22T07:34:52.496629",
     "status": "completed"
    },
    "scrolled": false,
    "tags": []
   },
   "outputs": [
    {
     "data": {
      "text/html": [
       "<div>\n",
       "<style scoped>\n",
       "    .dataframe tbody tr th:only-of-type {\n",
       "        vertical-align: middle;\n",
       "    }\n",
       "\n",
       "    .dataframe tbody tr th {\n",
       "        vertical-align: top;\n",
       "    }\n",
       "\n",
       "    .dataframe thead th {\n",
       "        text-align: right;\n",
       "    }\n",
       "</style>\n",
       "<table border=\"1\" class=\"dataframe\">\n",
       "  <thead>\n",
       "    <tr style=\"text-align: right;\">\n",
       "      <th></th>\n",
       "      <th>id</th>\n",
       "      <th>keyword</th>\n",
       "      <th>location</th>\n",
       "      <th>text</th>\n",
       "      <th>polarity_state</th>\n",
       "    </tr>\n",
       "  </thead>\n",
       "  <tbody>\n",
       "    <tr>\n",
       "      <th>15</th>\n",
       "      <td>46</td>\n",
       "      <td>ablaze</td>\n",
       "      <td>London</td>\n",
       "      <td>birmingham wholesale market ablaze bbc news fi...</td>\n",
       "      <td>Neutral</td>\n",
       "    </tr>\n",
       "    <tr>\n",
       "      <th>16</th>\n",
       "      <td>47</td>\n",
       "      <td>ablaze</td>\n",
       "      <td>Niall's place | SAF 12 SQUAD |</td>\n",
       "      <td>sunkxssedharry wear short race ablaze</td>\n",
       "      <td>Neutral</td>\n",
       "    </tr>\n",
       "    <tr>\n",
       "      <th>17</th>\n",
       "      <td>51</td>\n",
       "      <td>ablaze</td>\n",
       "      <td>NIGERIA</td>\n",
       "      <td>previouslyondoyintv toke makinwa marriage cris...</td>\n",
       "      <td>Neutral</td>\n",
       "    </tr>\n",
       "    <tr>\n",
       "      <th>18</th>\n",
       "      <td>58</td>\n",
       "      <td>ablaze</td>\n",
       "      <td>Live On Webcam</td>\n",
       "      <td>check nsfw</td>\n",
       "      <td>Neutral</td>\n",
       "    </tr>\n",
       "    <tr>\n",
       "      <th>19</th>\n",
       "      <td>60</td>\n",
       "      <td>ablaze</td>\n",
       "      <td>Los Angeles, Califnordia</td>\n",
       "      <td>psa splitting personality techie follow ablaze...</td>\n",
       "      <td>Neutral</td>\n",
       "    </tr>\n",
       "  </tbody>\n",
       "</table>\n",
       "</div>"
      ],
      "text/plain": [
       "    id keyword                        location  \\\n",
       "15  46  ablaze                          London   \n",
       "16  47  ablaze  Niall's place | SAF 12 SQUAD |   \n",
       "17  51  ablaze                         NIGERIA   \n",
       "18  58  ablaze                  Live On Webcam   \n",
       "19  60  ablaze        Los Angeles, Califnordia   \n",
       "\n",
       "                                                 text polarity_state  \n",
       "15  birmingham wholesale market ablaze bbc news fi...        Neutral  \n",
       "16              sunkxssedharry wear short race ablaze        Neutral  \n",
       "17  previouslyondoyintv toke makinwa marriage cris...        Neutral  \n",
       "18                                         check nsfw        Neutral  \n",
       "19  psa splitting personality techie follow ablaze...        Neutral  "
      ]
     },
     "execution_count": 104,
     "metadata": {},
     "output_type": "execute_result"
    }
   ],
   "source": [
    "test.head()"
   ]
  },
  {
   "cell_type": "markdown",
   "metadata": {
    "papermill": {
     "duration": 0.042415,
     "end_time": "2020-12-22T07:34:52.641866",
     "exception": false,
     "start_time": "2020-12-22T07:34:52.599451",
     "status": "completed"
    },
    "tags": []
   },
   "source": [
    "<a id='2.3'></a>\n",
    "## 2.3. Irrelavant Words (Stopwords)\n",
    "\n",
    "\n",
    "- For a good analysis, unnecessary words and attachments in sentences should be removed.\n",
    "- Stopwords in the corpus file downloaded from ntlk contains these words and their attachments.\n",
    "\n",
    "- **Word_tokenize library is used to separate words in sentences.**\n",
    "\n"
   ]
  },
  {
   "cell_type": "code",
   "execution_count": 105,
   "metadata": {
    "execution": {
     "iopub.execute_input": "2020-12-22T07:34:52.729665Z",
     "iopub.status.busy": "2020-12-22T07:34:52.728917Z",
     "iopub.status.idle": "2020-12-22T07:34:53.855711Z",
     "shell.execute_reply": "2020-12-22T07:34:53.856541Z"
    },
    "papermill": {
     "duration": 1.172604,
     "end_time": "2020-12-22T07:34:53.856740",
     "exception": false,
     "start_time": "2020-12-22T07:34:52.684136",
     "status": "completed"
    },
    "tags": []
   },
   "outputs": [
    {
     "name": "stderr",
     "output_type": "stream",
     "text": [
      "[nltk_data] Downloading package stopwords to\n",
      "[nltk_data]     C:\\Users\\Administrator\\AppData\\Roaming\\nltk_data...\n",
      "[nltk_data]   Package stopwords is already up-to-date!\n"
     ]
    }
   ],
   "source": [
    "import nltk # natural language tool kit for word_tokenize ...\n",
    "nltk.download(\"stopwords\")      # stopwords is download in corpus directory\n",
    "from nltk.corpus import stopwords  # import stopwords"
   ]
  },
  {
   "cell_type": "code",
   "execution_count": 106,
   "metadata": {
    "execution": {
     "iopub.execute_input": "2020-12-22T07:34:53.950064Z",
     "iopub.status.busy": "2020-12-22T07:34:53.949322Z",
     "iopub.status.idle": "2020-12-22T07:34:55.752684Z",
     "shell.execute_reply": "2020-12-22T07:34:55.752086Z"
    },
    "papermill": {
     "duration": 1.852322,
     "end_time": "2020-12-22T07:34:55.752813",
     "exception": false,
     "start_time": "2020-12-22T07:34:53.900491",
     "status": "completed"
    },
    "tags": []
   },
   "outputs": [
    {
     "data": {
      "text/plain": [
       "31                  [bbcmtd, wholesale, market, ablaze]\n",
       "32               [always, try, bring, heavy, metal, rt]\n",
       "33    [africanbaze, breaking, news, nigeria, flag, s...\n",
       "34                                   [cry, set, ablaze]\n",
       "35         [plus, side, look, sky, last, night, ablaze]\n",
       "Name: text, dtype: object"
      ]
     },
     "execution_count": 106,
     "metadata": {},
     "output_type": "execute_result"
    }
   ],
   "source": [
    "train['text'] = [nltk.word_tokenize(text) for text in train['text']]\n",
    "test['text'] = [nltk.word_tokenize(text) for text in test['text']]\n",
    "\n",
    "train.text.head()"
   ]
  },
  {
   "cell_type": "code",
   "execution_count": 107,
   "metadata": {
    "execution": {
     "iopub.execute_input": "2020-12-22T07:34:55.848667Z",
     "iopub.status.busy": "2020-12-22T07:34:55.847981Z",
     "iopub.status.idle": "2020-12-22T07:34:55.850940Z",
     "shell.execute_reply": "2020-12-22T07:34:55.851402Z"
    },
    "papermill": {
     "duration": 0.055449,
     "end_time": "2020-12-22T07:34:55.851542",
     "exception": false,
     "start_time": "2020-12-22T07:34:55.796093",
     "status": "completed"
    },
    "tags": []
   },
   "outputs": [
    {
     "data": {
      "text/plain": [
       "15    [birmingham, wholesale, market, ablaze, bbc, n...\n",
       "16          [sunkxssedharry, wear, short, race, ablaze]\n",
       "17    [previouslyondoyintv, toke, makinwa, marriage,...\n",
       "18                                        [check, nsfw]\n",
       "19    [psa, splitting, personality, techie, follow, ...\n",
       "Name: text, dtype: object"
      ]
     },
     "execution_count": 107,
     "metadata": {},
     "output_type": "execute_result"
    }
   ],
   "source": [
    "test.text.head()"
   ]
  },
  {
   "cell_type": "markdown",
   "metadata": {
    "papermill": {
     "duration": 0.043342,
     "end_time": "2020-12-22T07:34:55.938406",
     "exception": false,
     "start_time": "2020-12-22T07:34:55.895064",
     "status": "completed"
    },
    "tags": []
   },
   "source": [
    "Now we will apply Lemmatization\n",
    "- Lemma is a method that allows the word to be separated by word roots.\n",
    "- With the join operation, the words are re-combined into sentences."
   ]
  },
  {
   "cell_type": "code",
   "execution_count": 108,
   "metadata": {
    "execution": {
     "iopub.execute_input": "2020-12-22T07:34:56.030912Z",
     "iopub.status.busy": "2020-12-22T07:34:56.030200Z",
     "iopub.status.idle": "2020-12-22T07:34:56.036616Z",
     "shell.execute_reply": "2020-12-22T07:34:56.037169Z"
    },
    "papermill": {
     "duration": 0.054227,
     "end_time": "2020-12-22T07:34:56.037309",
     "exception": false,
     "start_time": "2020-12-22T07:34:55.983082",
     "status": "completed"
    },
    "tags": []
   },
   "outputs": [],
   "source": [
    "def lemma_and_join(dataframe):\n",
    "    lemma = nltk.WordNetLemmatizer()\n",
    "    text_list = []\n",
    "    for text in dataframe['text']:\n",
    "        text = [ word for word in text if not word in set(stopwords.words(\"english\"))]\n",
    "        text = [lemma.lemmatize(word) for word in text]\n",
    "        text = \" \".join(text)\n",
    "        text_list.append(text)\n",
    "    return text_list"
   ]
  },
  {
   "cell_type": "code",
   "execution_count": 109,
   "metadata": {
    "execution": {
     "iopub.execute_input": "2020-12-22T07:34:56.131101Z",
     "iopub.status.busy": "2020-12-22T07:34:56.130420Z",
     "iopub.status.idle": "2020-12-22T07:35:16.934442Z",
     "shell.execute_reply": "2020-12-22T07:35:16.933781Z"
    },
    "papermill": {
     "duration": 20.853584,
     "end_time": "2020-12-22T07:35:16.934553",
     "exception": false,
     "start_time": "2020-12-22T07:34:56.080969",
     "status": "completed"
    },
    "scrolled": false,
    "tags": []
   },
   "outputs": [
    {
     "data": {
      "text/html": [
       "<div>\n",
       "<style scoped>\n",
       "    .dataframe tbody tr th:only-of-type {\n",
       "        vertical-align: middle;\n",
       "    }\n",
       "\n",
       "    .dataframe tbody tr th {\n",
       "        vertical-align: top;\n",
       "    }\n",
       "\n",
       "    .dataframe thead th {\n",
       "        text-align: right;\n",
       "    }\n",
       "</style>\n",
       "<table border=\"1\" class=\"dataframe\">\n",
       "  <thead>\n",
       "    <tr style=\"text-align: right;\">\n",
       "      <th></th>\n",
       "      <th>id</th>\n",
       "      <th>keyword</th>\n",
       "      <th>location</th>\n",
       "      <th>text</th>\n",
       "      <th>target</th>\n",
       "      <th>polarity_state</th>\n",
       "    </tr>\n",
       "  </thead>\n",
       "  <tbody>\n",
       "    <tr>\n",
       "      <th>31</th>\n",
       "      <td>48</td>\n",
       "      <td>ablaze</td>\n",
       "      <td>Birmingham</td>\n",
       "      <td>bbcmtd wholesale market ablaze</td>\n",
       "      <td>1</td>\n",
       "      <td>Neutral</td>\n",
       "    </tr>\n",
       "    <tr>\n",
       "      <th>32</th>\n",
       "      <td>49</td>\n",
       "      <td>ablaze</td>\n",
       "      <td>Est. September 2012 - Bristol</td>\n",
       "      <td>always try bring heavy metal rt</td>\n",
       "      <td>0</td>\n",
       "      <td>Negative</td>\n",
       "    </tr>\n",
       "    <tr>\n",
       "      <th>33</th>\n",
       "      <td>50</td>\n",
       "      <td>ablaze</td>\n",
       "      <td>AFRICA</td>\n",
       "      <td>africanbaze breaking news nigeria flag set abl...</td>\n",
       "      <td>1</td>\n",
       "      <td>Neutral</td>\n",
       "    </tr>\n",
       "    <tr>\n",
       "      <th>34</th>\n",
       "      <td>52</td>\n",
       "      <td>ablaze</td>\n",
       "      <td>Philadelphia, PA</td>\n",
       "      <td>cry set ablaze</td>\n",
       "      <td>0</td>\n",
       "      <td>Neutral</td>\n",
       "    </tr>\n",
       "    <tr>\n",
       "      <th>35</th>\n",
       "      <td>53</td>\n",
       "      <td>ablaze</td>\n",
       "      <td>London, UK</td>\n",
       "      <td>plus side look sky last night ablaze</td>\n",
       "      <td>0</td>\n",
       "      <td>Neutral</td>\n",
       "    </tr>\n",
       "  </tbody>\n",
       "</table>\n",
       "</div>"
      ],
      "text/plain": [
       "    id keyword                       location  \\\n",
       "31  48  ablaze                     Birmingham   \n",
       "32  49  ablaze  Est. September 2012 - Bristol   \n",
       "33  50  ablaze                         AFRICA   \n",
       "34  52  ablaze               Philadelphia, PA   \n",
       "35  53  ablaze                     London, UK   \n",
       "\n",
       "                                                 text  target polarity_state  \n",
       "31                     bbcmtd wholesale market ablaze       1        Neutral  \n",
       "32                    always try bring heavy metal rt       0       Negative  \n",
       "33  africanbaze breaking news nigeria flag set abl...       1        Neutral  \n",
       "34                                     cry set ablaze       0        Neutral  \n",
       "35               plus side look sky last night ablaze       0        Neutral  "
      ]
     },
     "execution_count": 109,
     "metadata": {},
     "output_type": "execute_result"
    }
   ],
   "source": [
    "train['text'] = lemma_and_join(train)\n",
    "test['text'] = lemma_and_join(test)\n",
    "train.head()"
   ]
  },
  {
   "cell_type": "code",
   "execution_count": 110,
   "metadata": {
    "execution": {
     "iopub.execute_input": "2020-12-22T07:35:17.028544Z",
     "iopub.status.busy": "2020-12-22T07:35:17.027546Z",
     "iopub.status.idle": "2020-12-22T07:35:17.040477Z",
     "shell.execute_reply": "2020-12-22T07:35:17.039846Z"
    },
    "papermill": {
     "duration": 0.060479,
     "end_time": "2020-12-22T07:35:17.040584",
     "exception": false,
     "start_time": "2020-12-22T07:35:16.980105",
     "status": "completed"
    },
    "tags": []
   },
   "outputs": [
    {
     "data": {
      "text/html": [
       "<div>\n",
       "<style scoped>\n",
       "    .dataframe tbody tr th:only-of-type {\n",
       "        vertical-align: middle;\n",
       "    }\n",
       "\n",
       "    .dataframe tbody tr th {\n",
       "        vertical-align: top;\n",
       "    }\n",
       "\n",
       "    .dataframe thead th {\n",
       "        text-align: right;\n",
       "    }\n",
       "</style>\n",
       "<table border=\"1\" class=\"dataframe\">\n",
       "  <thead>\n",
       "    <tr style=\"text-align: right;\">\n",
       "      <th></th>\n",
       "      <th>id</th>\n",
       "      <th>keyword</th>\n",
       "      <th>location</th>\n",
       "      <th>text</th>\n",
       "      <th>polarity_state</th>\n",
       "    </tr>\n",
       "  </thead>\n",
       "  <tbody>\n",
       "    <tr>\n",
       "      <th>15</th>\n",
       "      <td>46</td>\n",
       "      <td>ablaze</td>\n",
       "      <td>London</td>\n",
       "      <td>birmingham wholesale market ablaze bbc news fi...</td>\n",
       "      <td>Neutral</td>\n",
       "    </tr>\n",
       "    <tr>\n",
       "      <th>16</th>\n",
       "      <td>47</td>\n",
       "      <td>ablaze</td>\n",
       "      <td>Niall's place | SAF 12 SQUAD |</td>\n",
       "      <td>sunkxssedharry wear short race ablaze</td>\n",
       "      <td>Neutral</td>\n",
       "    </tr>\n",
       "    <tr>\n",
       "      <th>17</th>\n",
       "      <td>51</td>\n",
       "      <td>ablaze</td>\n",
       "      <td>NIGERIA</td>\n",
       "      <td>previouslyondoyintv toke makinwa marriage cris...</td>\n",
       "      <td>Neutral</td>\n",
       "    </tr>\n",
       "    <tr>\n",
       "      <th>18</th>\n",
       "      <td>58</td>\n",
       "      <td>ablaze</td>\n",
       "      <td>Live On Webcam</td>\n",
       "      <td>check nsfw</td>\n",
       "      <td>Neutral</td>\n",
       "    </tr>\n",
       "    <tr>\n",
       "      <th>19</th>\n",
       "      <td>60</td>\n",
       "      <td>ablaze</td>\n",
       "      <td>Los Angeles, Califnordia</td>\n",
       "      <td>psa splitting personality techie follow ablaze...</td>\n",
       "      <td>Neutral</td>\n",
       "    </tr>\n",
       "  </tbody>\n",
       "</table>\n",
       "</div>"
      ],
      "text/plain": [
       "    id keyword                        location  \\\n",
       "15  46  ablaze                          London   \n",
       "16  47  ablaze  Niall's place | SAF 12 SQUAD |   \n",
       "17  51  ablaze                         NIGERIA   \n",
       "18  58  ablaze                  Live On Webcam   \n",
       "19  60  ablaze        Los Angeles, Califnordia   \n",
       "\n",
       "                                                 text polarity_state  \n",
       "15  birmingham wholesale market ablaze bbc news fi...        Neutral  \n",
       "16              sunkxssedharry wear short race ablaze        Neutral  \n",
       "17  previouslyondoyintv toke makinwa marriage cris...        Neutral  \n",
       "18                                         check nsfw        Neutral  \n",
       "19  psa splitting personality techie follow ablaze...        Neutral  "
      ]
     },
     "execution_count": 110,
     "metadata": {},
     "output_type": "execute_result"
    }
   ],
   "source": [
    "test.head()"
   ]
  },
  {
   "cell_type": "markdown",
   "metadata": {
    "papermill": {
     "duration": 0.051952,
     "end_time": "2020-12-22T07:35:19.167146",
     "exception": false,
     "start_time": "2020-12-22T07:35:19.115194",
     "status": "completed"
    },
    "tags": []
   },
   "source": [
    "<a id='4'></a>\n",
    "# 4. Modeling\n"
   ]
  },
  {
   "cell_type": "markdown",
   "metadata": {
    "papermill": {
     "duration": 0.05287,
     "end_time": "2020-12-22T07:35:19.648946",
     "exception": false,
     "start_time": "2020-12-22T07:35:19.596076",
     "status": "completed"
    },
    "tags": []
   },
   "source": [
    "Now we will apply models for the prediction on above data "
   ]
  },
  {
   "cell_type": "code",
   "execution_count": 111,
   "metadata": {
    "execution": {
     "iopub.execute_input": "2020-12-22T07:35:19.762910Z",
     "iopub.status.busy": "2020-12-22T07:35:19.762198Z",
     "iopub.status.idle": "2020-12-22T07:35:19.767598Z",
     "shell.execute_reply": "2020-12-22T07:35:19.767038Z"
    },
    "papermill": {
     "duration": 0.06557,
     "end_time": "2020-12-22T07:35:19.767711",
     "exception": false,
     "start_time": "2020-12-22T07:35:19.702141",
     "status": "completed"
    },
    "tags": []
   },
   "outputs": [],
   "source": [
    "from sklearn.linear_model import LogisticRegression\n",
    "\n",
    "from sklearn.neighbors import KNeighborsClassifier\n",
    "from sklearn.tree import DecisionTreeClassifier\n",
    "\n",
    "from sklearn.ensemble import RandomForestClassifier\n",
    "\n",
    "\n",
    "from sklearn.metrics import classification_report, confusion_matrix, accuracy_score, f1_score, recall_score, precision_score"
   ]
  },
  {
   "cell_type": "markdown",
   "metadata": {
    "papermill": {
     "duration": 0.054091,
     "end_time": "2020-12-22T07:35:19.875191",
     "exception": false,
     "start_time": "2020-12-22T07:35:19.821100",
     "status": "completed"
    },
    "tags": []
   },
   "source": [
    "- **Models Created**"
   ]
  },
  {
   "cell_type": "code",
   "execution_count": 112,
   "metadata": {
    "execution": {
     "iopub.execute_input": "2020-12-22T07:35:19.991721Z",
     "iopub.status.busy": "2020-12-22T07:35:19.991045Z",
     "iopub.status.idle": "2020-12-22T07:35:19.994503Z",
     "shell.execute_reply": "2020-12-22T07:35:19.993819Z"
    },
    "papermill": {
     "duration": 0.06442,
     "end_time": "2020-12-22T07:35:19.994629",
     "exception": false,
     "start_time": "2020-12-22T07:35:19.930209",
     "status": "completed"
    },
    "tags": []
   },
   "outputs": [],
   "source": [
    "f1_score_list=[]\n",
    "train_accuracy_list=[]\n",
    "test_accuracy_list = []\n",
    "classifier_list = []\n",
    "def fit_and_predict(model,x_train,x_test,y_train,y_test):\n",
    "    \n",
    "    classifier = model\n",
    "    classifier.fit(x_train,y_train)\n",
    "    y_pred = classifier.predict(x_test)\n",
    "    #print('{}'.format(classifier))\n",
    "    cmatrix = confusion_matrix(y_test,y_pred)\n",
    "    \n",
    "    f,ax = plt.subplots(figsize=(3,3))\n",
    "    sns.heatmap(cmatrix,annot=True,linewidths=0.5,cbar=False,linecolor=\"red\",fmt='.0f',ax=ax)\n",
    "    plt.xlabel(\"y_predict\")\n",
    "    plt.ylabel(\"y_true\")\n",
    "    ax.set(title=str(classifier))\n",
    "    plt.show()\n",
    "    \n",
    "    \n",
    "    f1score = f1_score(y_test,y_pred,average='weighted')\n",
    "    train_accuracy = round(classifier.score(x_train,y_train)*100)\n",
    "    test_accuracy =  round(accuracy_score(y_test,y_pred)*100)\n",
    "    \n",
    "    classifier_list.append(str(classifier))\n",
    "    train_accuracy_list.append(str(train_accuracy))\n",
    "    test_accuracy_list.append(str(test_accuracy))\n",
    "    f1_score_list.append(str(round(f1score*100)))\n",
    "    \n",
    "    \n",
    "    print(classification_report(y_test,y_pred))\n",
    "    print('Accuracy of classifier on training set:{}%'.format(train_accuracy))\n",
    "    print('-'*50)\n",
    "    print('Accuracy of classifier on test set:{}%' .format(test_accuracy))\n",
    "    \n",
    "\n",
    "\n",
    "    \n"
   ]
  },
  {
   "cell_type": "markdown",
   "metadata": {
    "papermill": {
     "duration": 0.043342,
     "end_time": "2020-12-22T07:34:55.938406",
     "exception": false,
     "start_time": "2020-12-22T07:34:55.895064",
     "status": "completed"
    },
    "tags": []
   },
   "source": [
    "                                                         Bag of Words\n",
    "For prediction we will need to convert text into numarical form in order to get accurate prediction for this purpose we will use bag of words.<br>\n",
    "The word bag model is a way of showing text vectorially while modeling text with machine learning algorithms. In this model, we represent the text as if inside a bag.<br>\n",
    "For Example: <br>\n",
    "It was a terrible earthquake<br>\n",
    "1  0   0     1       1<br>\n",
    "0  1   0     0       1<br>\n",
    "0  0   0     1       1<br>"
   ]
  },
  {
   "cell_type": "code",
   "execution_count": 126,
   "metadata": {},
   "outputs": [],
   "source": [
    "from sklearn.feature_extraction.text import CountVectorizer # used method for create bag of word\n",
    "\n",
    "\n",
    "count_vectorizer = CountVectorizer() \n",
    "\n",
    "sparce_matrix_train= count_vectorizer.fit_transform(train['text'])\n",
    "space_matrix_test = count_vectorizer.transform(test['text']) "
   ]
  },
  {
   "cell_type": "code",
   "execution_count": 127,
   "metadata": {
    "_kg_hide-output": false,
    "execution": {
     "iopub.execute_input": "2020-12-22T07:35:20.111936Z",
     "iopub.status.busy": "2020-12-22T07:35:20.109930Z",
     "iopub.status.idle": "2020-12-22T07:35:39.904959Z",
     "shell.execute_reply": "2020-12-22T07:35:39.905804Z"
    },
    "papermill": {
     "duration": 19.856239,
     "end_time": "2020-12-22T07:35:39.906025",
     "exception": false,
     "start_time": "2020-12-22T07:35:20.049786",
     "status": "completed"
    },
    "tags": []
   },
   "outputs": [],
   "source": [
    "\n",
    "y = train.target\n",
    "x = sparce_matrix_train\n",
    "\n",
    "from sklearn.model_selection import train_test_split\n",
    "x_train, x_test, y_train, y_test = train_test_split(x,y, test_size = 0.1, random_state = 42)"
   ]
  },
  {
   "cell_type": "code",
   "execution_count": 128,
   "metadata": {},
   "outputs": [],
   "source": [
    "random_state = 15\n",
    "models=[\n",
    "        LogisticRegression(random_state=15),\n",
    "        DecisionTreeClassifier(random_state = 15),\n",
    "        KNeighborsClassifier(),\n",
    "        RandomForestClassifier(random_state=15),\n",
    "       ]"
   ]
  },
  {
   "cell_type": "code",
   "execution_count": 129,
   "metadata": {},
   "outputs": [
    {
     "data": {
      "image/png": "[encoded data removed]",
      "text/plain": [
       "<Figure size 216x216 with 1 Axes>"
      ]
     },
     "metadata": {
      "needs_background": "light"
     },
     "output_type": "display_data"
    },
    {
     "name": "stdout",
     "output_type": "stream",
     "text": [
      "              precision    recall  f1-score   support\n",
      "\n",
      "           0       0.84      0.86      0.85       300\n",
      "           1       0.79      0.76      0.78       208\n",
      "\n",
      "    accuracy                           0.82       508\n",
      "   macro avg       0.82      0.81      0.81       508\n",
      "weighted avg       0.82      0.82      0.82       508\n",
      "\n",
      "Accuracy of classifier on training set:96%\n",
      "--------------------------------------------------\n",
      "Accuracy of classifier on test set:82%\n"
     ]
    },
    {
     "data": {
      "image/png": "[encoded data removed]",
      "text/plain": [
       "<Figure size 216x216 with 1 Axes>"
      ]
     },
     "metadata": {
      "needs_background": "light"
     },
     "output_type": "display_data"
    },
    {
     "name": "stdout",
     "output_type": "stream",
     "text": [
      "              precision    recall  f1-score   support\n",
      "\n",
      "           0       0.78      0.79      0.79       300\n",
      "           1       0.69      0.68      0.69       208\n",
      "\n",
      "    accuracy                           0.75       508\n",
      "   macro avg       0.74      0.74      0.74       508\n",
      "weighted avg       0.75      0.75      0.75       508\n",
      "\n",
      "Accuracy of classifier on training set:99%\n",
      "--------------------------------------------------\n",
      "Accuracy of classifier on test set:75%\n"
     ]
    },
    {
     "data": {
      "image/png": "[encoded data removed]",
      "text/plain": [
       "<Figure size 216x216 with 1 Axes>"
      ]
     },
     "metadata": {
      "needs_background": "light"
     },
     "output_type": "display_data"
    },
    {
     "name": "stdout",
     "output_type": "stream",
     "text": [
      "              precision    recall  f1-score   support\n",
      "\n",
      "           0       0.67      0.98      0.79       300\n",
      "           1       0.90      0.30      0.45       208\n",
      "\n",
      "    accuracy                           0.70       508\n",
      "   macro avg       0.78      0.64      0.62       508\n",
      "weighted avg       0.76      0.70      0.65       508\n",
      "\n",
      "Accuracy of classifier on training set:73%\n",
      "--------------------------------------------------\n",
      "Accuracy of classifier on test set:70%\n"
     ]
    },
    {
     "data": {
      "image/png": "[encoded data removed]",
      "text/plain": [
       "<Figure size 216x216 with 1 Axes>"
      ]
     },
     "metadata": {
      "needs_background": "light"
     },
     "output_type": "display_data"
    },
    {
     "name": "stdout",
     "output_type": "stream",
     "text": [
      "              precision    recall  f1-score   support\n",
      "\n",
      "           0       0.79      0.85      0.82       300\n",
      "           1       0.76      0.68      0.72       208\n",
      "\n",
      "    accuracy                           0.78       508\n",
      "   macro avg       0.78      0.77      0.77       508\n",
      "weighted avg       0.78      0.78      0.78       508\n",
      "\n",
      "Accuracy of classifier on training set:99%\n",
      "--------------------------------------------------\n",
      "Accuracy of classifier on test set:78%\n"
     ]
    }
   ],
   "source": [
    "for model in models:\n",
    "    fit_and_predict(model,x_train,x_test,y_train,y_test)"
   ]
  },
  {
   "cell_type": "markdown",
   "metadata": {
    "papermill": {
     "duration": 0.067081,
     "end_time": "2020-12-22T08:59:26.571876",
     "exception": false,
     "start_time": "2020-12-22T08:59:26.504795",
     "status": "completed"
    },
    "tags": []
   },
   "source": [
    "\n",
    "# 5. Conclusion\n",
    "\n",
    "**Classification have been completed. Results Listed and Compared**"
   ]
  },
  {
   "cell_type": "code",
   "execution_count": 119,
   "metadata": {
    "_kg_hide-input": true,
    "execution": {
     "iopub.execute_input": "2020-12-22T08:59:26.844169Z",
     "iopub.status.busy": "2020-12-22T08:59:26.843451Z",
     "iopub.status.idle": "2020-12-22T08:59:26.857256Z",
     "shell.execute_reply": "2020-12-22T08:59:26.857816Z"
    },
    "papermill": {
     "duration": 0.085309,
     "end_time": "2020-12-22T08:59:26.857973",
     "exception": false,
     "start_time": "2020-12-22T08:59:26.772664",
     "status": "completed"
    },
    "tags": []
   },
   "outputs": [
    {
     "data": {
      "text/html": [
       "<div>\n",
       "<style scoped>\n",
       "    .dataframe tbody tr th:only-of-type {\n",
       "        vertical-align: middle;\n",
       "    }\n",
       "\n",
       "    .dataframe tbody tr th {\n",
       "        vertical-align: top;\n",
       "    }\n",
       "\n",
       "    .dataframe thead th {\n",
       "        text-align: right;\n",
       "    }\n",
       "</style>\n",
       "<table border=\"1\" class=\"dataframe\">\n",
       "  <thead>\n",
       "    <tr style=\"text-align: right;\">\n",
       "      <th></th>\n",
       "      <th>Classifier</th>\n",
       "      <th>Train_Accuracy</th>\n",
       "      <th>Test_Accuracy</th>\n",
       "      <th>F1-Score</th>\n",
       "    </tr>\n",
       "  </thead>\n",
       "  <tbody>\n",
       "    <tr>\n",
       "      <th>0</th>\n",
       "      <td>LogisticRegression(random_state=15)</td>\n",
       "      <td>96</td>\n",
       "      <td>82</td>\n",
       "      <td>82</td>\n",
       "    </tr>\n",
       "    <tr>\n",
       "      <th>1</th>\n",
       "      <td>DecisionTreeClassifier(random_state=15)</td>\n",
       "      <td>99</td>\n",
       "      <td>75</td>\n",
       "      <td>75</td>\n",
       "    </tr>\n",
       "    <tr>\n",
       "      <th>2</th>\n",
       "      <td>KNeighborsClassifier()</td>\n",
       "      <td>73</td>\n",
       "      <td>70</td>\n",
       "      <td>65</td>\n",
       "    </tr>\n",
       "    <tr>\n",
       "      <th>3</th>\n",
       "      <td>RandomForestClassifier(random_state=15)</td>\n",
       "      <td>99</td>\n",
       "      <td>78</td>\n",
       "      <td>78</td>\n",
       "    </tr>\n",
       "  </tbody>\n",
       "</table>\n",
       "</div>"
      ],
      "text/plain": [
       "                                Classifier Train_Accuracy Test_Accuracy  \\\n",
       "0      LogisticRegression(random_state=15)             96            82   \n",
       "1  DecisionTreeClassifier(random_state=15)             99            75   \n",
       "2                   KNeighborsClassifier()             73            70   \n",
       "3  RandomForestClassifier(random_state=15)             99            78   \n",
       "\n",
       "  F1-Score  \n",
       "0       82  \n",
       "1       75  \n",
       "2       65  \n",
       "3       78  "
      ]
     },
     "execution_count": 119,
     "metadata": {},
     "output_type": "execute_result"
    }
   ],
   "source": [
    "results_dict={'Classifier':classifier_list,\n",
    "              'Train_Accuracy':train_accuracy_list,\n",
    "              'Test_Accuracy':test_accuracy_list,\n",
    "              'F1-Score':f1_score_list\n",
    "            }\n",
    "\n",
    "results=pd.DataFrame(results_dict)\n",
    "results"
   ]
  },
  {
   "cell_type": "code",
   "execution_count": null,
   "metadata": {},
   "outputs": [],
   "source": []
  },
  {
   "cell_type": "code",
   "execution_count": null,
   "metadata": {},
   "outputs": [],
   "source": []
  },
  {
   "cell_type": "code",
   "execution_count": null,
   "metadata": {},
   "outputs": [],
   "source": []
  },
  {
   "cell_type": "code",
   "execution_count": null,
   "metadata": {},
   "outputs": [],
   "source": []
  }
 ],
 "metadata": {
  "kernelspec": {
   "display_name": "Python 3",
   "language": "python",
   "name": "python3"
  },
  "language_info": {
   "codemirror_mode": {
    "name": "ipython",
    "version": 3
   },
   "file_extension": ".py",
   "mimetype": "text/x-python",
   "name": "python",
   "nbconvert_exporter": "python",
   "pygments_lexer": "ipython3",
   "version": "3.8.5"
  },
  "papermill": {
   "duration": 5088.545207,
   "end_time": "2020-12-22T08:59:29.441506",
   "environment_variables": {},
   "exception": null,
   "input_path": "__notebook__.ipynb",
   "output_path": "__notebook__.ipynb",
   "parameters": {},
   "start_time": "2020-12-22T07:34:40.896299",
   "version": "2.1.0"
  }
 },
 "nbformat": 4,
 "nbformat_minor": 4
}
